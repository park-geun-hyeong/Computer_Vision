{
  "nbformat": 4,
  "nbformat_minor": 0,
  "metadata": {
    "colab": {
      "name": "cifar10_Conv.ipynb",
      "provenance": [],
      "collapsed_sections": [],
      "mount_file_id": "19tMOL59kObHMdIRPopvs4eccOB5f4SQa",
      "authorship_tag": "ABX9TyPfcDHXq87ygVSZGxfj9O/H",
      "include_colab_link": true
    },
    "kernelspec": {
      "name": "python3",
      "display_name": "Python 3"
    },
    "language_info": {
      "name": "python"
    },
    "accelerator": "GPU",
    "widgets": {
      "application/vnd.jupyter.widget-state+json": {
        "1696c3ca41564fb4bde27d47a6f1834b": {
          "model_module": "@jupyter-widgets/controls",
          "model_name": "HBoxModel",
          "state": {
            "_view_name": "HBoxView",
            "_dom_classes": [],
            "_model_name": "HBoxModel",
            "_view_module": "@jupyter-widgets/controls",
            "_model_module_version": "1.5.0",
            "_view_count": null,
            "_view_module_version": "1.5.0",
            "box_style": "",
            "layout": "IPY_MODEL_91b664f4456941e8bd2a7eff691e94ef",
            "_model_module": "@jupyter-widgets/controls",
            "children": [
              "IPY_MODEL_9eb9c7ee3035469b84692f2118b46444",
              "IPY_MODEL_7f3535ef546f4a0e9071362813a4c272"
            ]
          }
        },
        "91b664f4456941e8bd2a7eff691e94ef": {
          "model_module": "@jupyter-widgets/base",
          "model_name": "LayoutModel",
          "state": {
            "_view_name": "LayoutView",
            "grid_template_rows": null,
            "right": null,
            "justify_content": null,
            "_view_module": "@jupyter-widgets/base",
            "overflow": null,
            "_model_module_version": "1.2.0",
            "_view_count": null,
            "flex_flow": null,
            "width": null,
            "min_width": null,
            "border": null,
            "align_items": null,
            "bottom": null,
            "_model_module": "@jupyter-widgets/base",
            "top": null,
            "grid_column": null,
            "overflow_y": null,
            "overflow_x": null,
            "grid_auto_flow": null,
            "grid_area": null,
            "grid_template_columns": null,
            "flex": null,
            "_model_name": "LayoutModel",
            "justify_items": null,
            "grid_row": null,
            "max_height": null,
            "align_content": null,
            "visibility": null,
            "align_self": null,
            "height": null,
            "min_height": null,
            "padding": null,
            "grid_auto_rows": null,
            "grid_gap": null,
            "max_width": null,
            "order": null,
            "_view_module_version": "1.2.0",
            "grid_template_areas": null,
            "object_position": null,
            "object_fit": null,
            "grid_auto_columns": null,
            "margin": null,
            "display": null,
            "left": null
          }
        },
        "9eb9c7ee3035469b84692f2118b46444": {
          "model_module": "@jupyter-widgets/controls",
          "model_name": "FloatProgressModel",
          "state": {
            "_view_name": "ProgressView",
            "style": "IPY_MODEL_d3619a62986a4d6f8a9a62e9a4ecdc78",
            "_dom_classes": [],
            "description": "100%",
            "_model_name": "FloatProgressModel",
            "bar_style": "success",
            "max": 20,
            "_view_module": "@jupyter-widgets/controls",
            "_model_module_version": "1.5.0",
            "value": 20,
            "_view_count": null,
            "_view_module_version": "1.5.0",
            "orientation": "horizontal",
            "min": 0,
            "description_tooltip": null,
            "_model_module": "@jupyter-widgets/controls",
            "layout": "IPY_MODEL_bd9a55f5c0c5490a844e5ff2448ccec2"
          }
        },
        "7f3535ef546f4a0e9071362813a4c272": {
          "model_module": "@jupyter-widgets/controls",
          "model_name": "HTMLModel",
          "state": {
            "_view_name": "HTMLView",
            "style": "IPY_MODEL_ccd081d97bc8484ba5c0dabc9752d82d",
            "_dom_classes": [],
            "description": "",
            "_model_name": "HTMLModel",
            "placeholder": "​",
            "_view_module": "@jupyter-widgets/controls",
            "_model_module_version": "1.5.0",
            "value": " 20/20 [39:28&lt;00:00, 118.41s/it]",
            "_view_count": null,
            "_view_module_version": "1.5.0",
            "description_tooltip": null,
            "_model_module": "@jupyter-widgets/controls",
            "layout": "IPY_MODEL_e3a375079b384a56b5f17250693cb8a2"
          }
        },
        "d3619a62986a4d6f8a9a62e9a4ecdc78": {
          "model_module": "@jupyter-widgets/controls",
          "model_name": "ProgressStyleModel",
          "state": {
            "_view_name": "StyleView",
            "_model_name": "ProgressStyleModel",
            "description_width": "initial",
            "_view_module": "@jupyter-widgets/base",
            "_model_module_version": "1.5.0",
            "_view_count": null,
            "_view_module_version": "1.2.0",
            "bar_color": null,
            "_model_module": "@jupyter-widgets/controls"
          }
        },
        "bd9a55f5c0c5490a844e5ff2448ccec2": {
          "model_module": "@jupyter-widgets/base",
          "model_name": "LayoutModel",
          "state": {
            "_view_name": "LayoutView",
            "grid_template_rows": null,
            "right": null,
            "justify_content": null,
            "_view_module": "@jupyter-widgets/base",
            "overflow": null,
            "_model_module_version": "1.2.0",
            "_view_count": null,
            "flex_flow": null,
            "width": null,
            "min_width": null,
            "border": null,
            "align_items": null,
            "bottom": null,
            "_model_module": "@jupyter-widgets/base",
            "top": null,
            "grid_column": null,
            "overflow_y": null,
            "overflow_x": null,
            "grid_auto_flow": null,
            "grid_area": null,
            "grid_template_columns": null,
            "flex": null,
            "_model_name": "LayoutModel",
            "justify_items": null,
            "grid_row": null,
            "max_height": null,
            "align_content": null,
            "visibility": null,
            "align_self": null,
            "height": null,
            "min_height": null,
            "padding": null,
            "grid_auto_rows": null,
            "grid_gap": null,
            "max_width": null,
            "order": null,
            "_view_module_version": "1.2.0",
            "grid_template_areas": null,
            "object_position": null,
            "object_fit": null,
            "grid_auto_columns": null,
            "margin": null,
            "display": null,
            "left": null
          }
        },
        "ccd081d97bc8484ba5c0dabc9752d82d": {
          "model_module": "@jupyter-widgets/controls",
          "model_name": "DescriptionStyleModel",
          "state": {
            "_view_name": "StyleView",
            "_model_name": "DescriptionStyleModel",
            "description_width": "",
            "_view_module": "@jupyter-widgets/base",
            "_model_module_version": "1.5.0",
            "_view_count": null,
            "_view_module_version": "1.2.0",
            "_model_module": "@jupyter-widgets/controls"
          }
        },
        "e3a375079b384a56b5f17250693cb8a2": {
          "model_module": "@jupyter-widgets/base",
          "model_name": "LayoutModel",
          "state": {
            "_view_name": "LayoutView",
            "grid_template_rows": null,
            "right": null,
            "justify_content": null,
            "_view_module": "@jupyter-widgets/base",
            "overflow": null,
            "_model_module_version": "1.2.0",
            "_view_count": null,
            "flex_flow": null,
            "width": null,
            "min_width": null,
            "border": null,
            "align_items": null,
            "bottom": null,
            "_model_module": "@jupyter-widgets/base",
            "top": null,
            "grid_column": null,
            "overflow_y": null,
            "overflow_x": null,
            "grid_auto_flow": null,
            "grid_area": null,
            "grid_template_columns": null,
            "flex": null,
            "_model_name": "LayoutModel",
            "justify_items": null,
            "grid_row": null,
            "max_height": null,
            "align_content": null,
            "visibility": null,
            "align_self": null,
            "height": null,
            "min_height": null,
            "padding": null,
            "grid_auto_rows": null,
            "grid_gap": null,
            "max_width": null,
            "order": null,
            "_view_module_version": "1.2.0",
            "grid_template_areas": null,
            "object_position": null,
            "object_fit": null,
            "grid_auto_columns": null,
            "margin": null,
            "display": null,
            "left": null
          }
        }
      }
    }
  },
  "cells": [
    {
      "cell_type": "markdown",
      "metadata": {
        "id": "view-in-github",
        "colab_type": "text"
      },
      "source": [
        "<a href=\"https://colab.research.google.com/github/park-geun-hyeong/practice_pytorch/blob/main/cifar10/cifar10_CNN.ipynb\" target=\"_parent\"><img src=\"https://colab.research.google.com/assets/colab-badge.svg\" alt=\"Open In Colab\"/></a>"
      ]
    },
    {
      "cell_type": "markdown",
      "metadata": {
        "id": "Bb2OBf3Y_WT5"
      },
      "source": [
        "## Unzip file & Read Data Path"
      ]
    },
    {
      "cell_type": "code",
      "metadata": {
        "id": "DNgXzVWmjFau"
      },
      "source": [
        "import os\n",
        "import zipfile\n",
        "import glob\n",
        "import tqdm"
      ],
      "execution_count": 1,
      "outputs": []
    },
    {
      "cell_type": "code",
      "metadata": {
        "id": "6qh75cJcjaPh"
      },
      "source": [
        "path = '/content/drive/MyDrive/PyTorch/Multi-classification/cifar10_Conv/'\n",
        "\n",
        "os.chdir(path)"
      ],
      "execution_count": 2,
      "outputs": []
    },
    {
      "cell_type": "code",
      "metadata": {
        "colab": {
          "base_uri": "https://localhost:8080/"
        },
        "id": "pd0hjIa2j1VF",
        "outputId": "1a0e071d-b82b-49c2-e704-a4fd60d1e703"
      },
      "source": [
        "os.listdir(path)"
      ],
      "execution_count": 3,
      "outputs": [
        {
          "output_type": "execute_result",
          "data": {
            "text/plain": [
              "['cifar10_Conv.ipynb',\n",
              " 'cifar10_modified.zip',\n",
              " 'cifar10',\n",
              " 'cifar10_model2.pth',\n",
              " 'model_201716175.pth']"
            ]
          },
          "metadata": {
            "tags": []
          },
          "execution_count": 3
        }
      ]
    },
    {
      "cell_type": "code",
      "metadata": {
        "id": "c6qilXL3jkph"
      },
      "source": [
        "zip = zipfile.ZipFile('cifar10_modified.zip')\n",
        "zip.extractall('cifar10')\n",
        "zip.close()"
      ],
      "execution_count": null,
      "outputs": []
    },
    {
      "cell_type": "code",
      "metadata": {
        "id": "ammWwQOukAdm"
      },
      "source": [
        "train_list = glob.glob(path+'cifar10/train/*')"
      ],
      "execution_count": null,
      "outputs": []
    },
    {
      "cell_type": "code",
      "metadata": {
        "colab": {
          "base_uri": "https://localhost:8080/"
        },
        "id": "wAep-K74rPI8",
        "outputId": "0d21e4f5-4e96-4505-c0db-a0491c994471"
      },
      "source": [
        "train = []\n",
        "\n",
        "for i in train_list:\n",
        "    train += glob.glob(i+'/*.png')\n",
        "\n",
        "len(train)"
      ],
      "execution_count": null,
      "outputs": [
        {
          "output_type": "execute_result",
          "data": {
            "text/plain": [
              "50000"
            ]
          },
          "metadata": {
            "tags": []
          },
          "execution_count": 6
        }
      ]
    },
    {
      "cell_type": "code",
      "metadata": {
        "colab": {
          "base_uri": "https://localhost:8080/"
        },
        "id": "8SHmWbHdym8C",
        "outputId": "60008285-030b-4c90-f65e-53e62815bdd9"
      },
      "source": [
        "target=[]\n",
        "\n",
        "for i in range(len(train_list)):\n",
        "    target += len(glob.glob(train_list[i]+'/*.png'))*[i]\n",
        "\n",
        "print(len(target))"
      ],
      "execution_count": null,
      "outputs": [
        {
          "output_type": "stream",
          "text": [
            "50000\n"
          ],
          "name": "stdout"
        }
      ]
    },
    {
      "cell_type": "code",
      "metadata": {
        "id": "K-pKTiBk0C3M"
      },
      "source": [
        "test_list = glob.glob(path+'cifar10/test_small/*')"
      ],
      "execution_count": null,
      "outputs": []
    },
    {
      "cell_type": "code",
      "metadata": {
        "colab": {
          "base_uri": "https://localhost:8080/"
        },
        "id": "xBGrf4C10-Ha",
        "outputId": "db1f1b32-ea1a-4116-fdf1-d8f7467adf71"
      },
      "source": [
        "val_data = []\n",
        "\n",
        "for i in test_list:\n",
        "    val_data += glob.glob(i+'/*.png')\n",
        "\n",
        "len(val_data)"
      ],
      "execution_count": null,
      "outputs": [
        {
          "output_type": "execute_result",
          "data": {
            "text/plain": [
              "1000"
            ]
          },
          "metadata": {
            "tags": []
          },
          "execution_count": 9
        }
      ]
    },
    {
      "cell_type": "code",
      "metadata": {
        "colab": {
          "base_uri": "https://localhost:8080/"
        },
        "id": "v9GL0d6M1WfF",
        "outputId": "799d647b-e707-490c-93bd-d6ca1caf60b8"
      },
      "source": [
        "val_target = []\n",
        "\n",
        "for i in range(len(test_list)):\n",
        "    val_target += len(glob.glob(test_list[i]+'/*.png'))*[i]\n",
        "\n",
        "print(len(val_target))"
      ],
      "execution_count": null,
      "outputs": [
        {
          "output_type": "stream",
          "text": [
            "1000\n"
          ],
          "name": "stdout"
        }
      ]
    },
    {
      "cell_type": "code",
      "metadata": {
        "id": "bvE5y3oS17dT"
      },
      "source": [
        "import torch\n",
        "import torch.nn as nn\n",
        "import torch.optim as optim\n",
        "\n",
        "import cv2\n",
        "import matplotlib.pyplot as plt\n",
        "%matplotlib inline\n",
        "\n",
        "import numpy as np"
      ],
      "execution_count": 4,
      "outputs": []
    },
    {
      "cell_type": "code",
      "metadata": {
        "id": "X65iGdPD2Dq4"
      },
      "source": [
        "device = 'cuda' if torch.cuda.is_available else 'cpu'"
      ],
      "execution_count": 5,
      "outputs": []
    },
    {
      "cell_type": "markdown",
      "metadata": {
        "id": "PUXdGANR8qmY"
      },
      "source": [
        "## Make DataSet & DataLoader"
      ]
    },
    {
      "cell_type": "code",
      "metadata": {
        "id": "JP6r5qdN55eo"
      },
      "source": [
        "from torch.utils.data import Dataset, DataLoader"
      ],
      "execution_count": null,
      "outputs": []
    },
    {
      "cell_type": "code",
      "metadata": {
        "id": "vxVEukoySp3Z"
      },
      "source": [
        "class train_cifar10(Dataset):\n",
        "    def __init__(self, train, target):\n",
        "        self.train = train\n",
        "        self.target = target\n",
        "\n",
        "    def __len__(self):\n",
        "        return len(self.train)\n",
        "\n",
        "    def __getitem__(self, idx):\n",
        "        path = self.train[idx]\n",
        "        img = cv2.imread(path, cv2.IMREAD_COLOR)\n",
        "        img = np.array(img).astype(np.float32)\n",
        "        img = np.transpose(img,(2,0,1))\n",
        "\n",
        "        target = self.target[idx]\n",
        "        target = np.array(target).astype(np.int64)\n",
        "\n",
        "        return torch.tensor(img).float(), torch.tensor(target)"
      ],
      "execution_count": null,
      "outputs": []
    },
    {
      "cell_type": "code",
      "metadata": {
        "id": "TxG8cxk_5_e5"
      },
      "source": [
        "class val_cifar10(Dataset):\n",
        "    def __init__(self, val_data, val_target):\n",
        "        self.val_data = val_data\n",
        "        self.val_target = val_target\n",
        "\n",
        "    def __len__(self):\n",
        "        return len(self.val_data)\n",
        "\n",
        "    def __getitem__(self, idx):\n",
        "        path = self.val_data[idx]\n",
        "        img = cv2.imread(path, cv2.IMREAD_COLOR)\n",
        "        img = np.array(img).astype(np.float32)\n",
        "        img = np.transpose(img, (2,0,1))\n",
        "\n",
        "        target = self.val_target[idx]\n",
        "        target = np.array(target).astype(np.int64)\n",
        "\n",
        "        return torch.tensor(img).float(), torch.tensor(target)"
      ],
      "execution_count": null,
      "outputs": []
    },
    {
      "cell_type": "code",
      "metadata": {
        "id": "d_pUTmqa5_lU"
      },
      "source": [
        "train_dataset = train_cifar10(train = train, target = target)\n",
        "val_dataset = val_cifar10(val_data = val_data, val_target = val_target)\n",
        "\n",
        "train_loader = DataLoader(train_dataset, batch_size = 1000, shuffle=True)\n",
        "val_loader = DataLoader(val_dataset, batch_size = 100, shuffle = False)"
      ],
      "execution_count": null,
      "outputs": []
    },
    {
      "cell_type": "code",
      "metadata": {
        "id": "NUNNnKCV5_uN"
      },
      "source": [
        "for input, output in train_loader:\n",
        "    break"
      ],
      "execution_count": null,
      "outputs": []
    },
    {
      "cell_type": "code",
      "metadata": {
        "colab": {
          "base_uri": "https://localhost:8080/"
        },
        "id": "g0SsY-Wn1Qjv",
        "outputId": "91d39b63-63e6-4d8d-d8a1-7e105343259b"
      },
      "source": [
        "input.shape, output.shape"
      ],
      "execution_count": null,
      "outputs": [
        {
          "output_type": "execute_result",
          "data": {
            "text/plain": [
              "(torch.Size([1000, 3, 28, 28]), torch.Size([1000]))"
            ]
          },
          "metadata": {
            "tags": []
          },
          "execution_count": 51
        }
      ]
    },
    {
      "cell_type": "markdown",
      "metadata": {
        "id": "lOkKQ4gp8xAy"
      },
      "source": [
        "## Model"
      ]
    },
    {
      "cell_type": "code",
      "metadata": {
        "id": "KBoYLfuPBH-I"
      },
      "source": [
        "model = nn.Sequential(\n",
        "    nn.Conv2d(3, 16, 3, 1, padding=1),\n",
        "    nn.BatchNorm2d(16),\n",
        "    nn.ReLU(),\n",
        "\n",
        "    nn.Conv2d(16, 16, 3, 1, padding=1),\n",
        "    nn.BatchNorm2d(16),\n",
        "    nn.ReLU(),\n",
        "\n",
        "    nn.Conv2d(16, 32, 3, 1, padding=1),\n",
        "    nn.BatchNorm2d(32),\n",
        "    nn.ReLU(),\n",
        "\n",
        "    nn.Conv2d(32, 32, 3, 1, padding=1),\n",
        "    nn.BatchNorm2d(32),\n",
        "    nn.ReLU(),\n",
        "    nn.MaxPool2d(2,2),\n",
        "\n",
        "    nn.Conv2d(32, 64, 3, 1, padding=1),\n",
        "    nn.BatchNorm2d(64),\n",
        "    nn.ReLU(),\n",
        "\n",
        "    nn.Conv2d(64, 64, 3, 1, padding=1),\n",
        "    nn.BatchNorm2d(64),\n",
        "    nn.ReLU(),\n",
        "    nn.MaxPool2d(2,2),\n",
        "\n",
        "    nn.Flatten(),\n",
        "\n",
        "    nn.Linear(64*7*7, 1024),\n",
        "    nn.ReLU(),\n",
        "\n",
        "    nn.Linear(1024, 256),\n",
        "    nn.ReLU(),\n",
        "\n",
        "    nn.Linear(256, 64),\n",
        "    nn.ReLU(),\n",
        "\n",
        "    nn.Linear(64, 10)\n",
        ")"
      ],
      "execution_count": null,
      "outputs": []
    },
    {
      "cell_type": "code",
      "metadata": {
        "id": "ims0aW-2CHoO"
      },
      "source": [
        "loss_fn = nn.CrossEntropyLoss()\n",
        "optimizer = optim.Adam(model.parameters(), lr=0.001)\n",
        "lr_sc = optim.lr_scheduler.ReduceLROnPlateau(optimizer, mode='min', verbose=True, patience=3, factor=0.5)\n",
        "\n",
        "from tqdm import tqdm_notebook\n",
        "from sklearn.metrics import accuracy_score"
      ],
      "execution_count": null,
      "outputs": []
    },
    {
      "cell_type": "code",
      "metadata": {
        "colab": {
          "base_uri": "https://localhost:8080/"
        },
        "id": "HxzmczFwUWKN",
        "outputId": "94c39371-50a0-47cb-d491-7d4e6a3b4a89"
      },
      "source": [
        "import gc\n",
        "gc.collect()"
      ],
      "execution_count": null,
      "outputs": [
        {
          "output_type": "execute_result",
          "data": {
            "text/plain": [
              "44"
            ]
          },
          "metadata": {
            "tags": []
          },
          "execution_count": 19
        }
      ]
    },
    {
      "cell_type": "markdown",
      "metadata": {
        "id": "w163B0gx8z7j"
      },
      "source": [
        "## Training"
      ]
    },
    {
      "cell_type": "code",
      "metadata": {
        "colab": {
          "base_uri": "https://localhost:8080/",
          "height": 506,
          "referenced_widgets": [
            "1696c3ca41564fb4bde27d47a6f1834b",
            "91b664f4456941e8bd2a7eff691e94ef",
            "9eb9c7ee3035469b84692f2118b46444",
            "7f3535ef546f4a0e9071362813a4c272",
            "d3619a62986a4d6f8a9a62e9a4ecdc78",
            "bd9a55f5c0c5490a844e5ff2448ccec2",
            "ccd081d97bc8484ba5c0dabc9752d82d",
            "e3a375079b384a56b5f17250693cb8a2"
          ]
        },
        "id": "WtqdV_9zCSKQ",
        "outputId": "ff8deb8c-d192-4194-dada-4741f10da353"
      },
      "source": [
        "model = model.to(device)\n",
        "best_score = -1\n",
        "\n",
        "for epoch in tqdm_notebook(range(20)):\n",
        "    train_loss=[]\n",
        "    model.train()\n",
        "\n",
        "    for inputs, outputs in train_loader:\n",
        "        \n",
        "        inputs = inputs.to(device)\n",
        "        outputs = outputs.to(device)\n",
        "\n",
        "        optimizer.zero_grad()\n",
        "\n",
        "        cost = model(inputs)\n",
        "        loss = loss_fn(cost, outputs)\n",
        "        \n",
        "        loss.backward()\n",
        "        optimizer.step()\n",
        "\n",
        "        train_loss.append(loss.item())\n",
        "\n",
        "    val_loss=[]\n",
        "    val_pred=[]\n",
        "    val_true=[]\n",
        "\n",
        "    model.eval()\n",
        "    with torch.no_grad():\n",
        "        for inputs, outputs in val_loader:\n",
        "\n",
        "            inputs = inputs.to(device)\n",
        "            outputs = outputs.to(device)\n",
        "\n",
        "            cost = model(inputs)\n",
        "            loss = loss_fn(cost, outputs)\n",
        "\n",
        "            val_loss.append(loss.item())\n",
        "\n",
        "            val_pred.append(cost.cpu().argmax(dim=1).data.numpy())\n",
        "            val_true.append(outputs.cpu().numpy())\n",
        "\n",
        "        \n",
        "    val_pred = np.concatenate(val_pred)\n",
        "    val_true = np.concatenate(val_true)\n",
        "\n",
        "    lr_sc.step(np.mean(val_loss))\n",
        "\n",
        "    acc = accuracy_score(val_pred, val_true)\n",
        "\n",
        "    print(f\"epoch:{epoch}, train_loss:{np.mean(train_loss):.4f}, val_loss:{np.mean(val_loss):.4f}, acc:{acc:.4f}\")\n",
        "\n",
        "    if acc>best_score:\n",
        "        best_score = acc\n",
        "\n",
        "        torch.save(model, path+'cifar10_model2.pth')\n",
        "\n",
        "        "
      ],
      "execution_count": null,
      "outputs": [
        {
          "output_type": "stream",
          "text": [
            "/usr/local/lib/python3.7/dist-packages/ipykernel_launcher.py:4: TqdmDeprecationWarning: This function will be removed in tqdm==5.0.0\n",
            "Please use `tqdm.notebook.tqdm` instead of `tqdm.tqdm_notebook`\n",
            "  after removing the cwd from sys.path.\n"
          ],
          "name": "stderr"
        },
        {
          "output_type": "display_data",
          "data": {
            "application/vnd.jupyter.widget-view+json": {
              "model_id": "1696c3ca41564fb4bde27d47a6f1834b",
              "version_minor": 0,
              "version_major": 2
            },
            "text/plain": [
              "HBox(children=(FloatProgress(value=0.0, max=20.0), HTML(value='')))"
            ]
          },
          "metadata": {
            "tags": []
          }
        },
        {
          "output_type": "stream",
          "text": [
            "epoch:0, train_loss:1.6694, val_loss:1.4473, acc:0.4770\n",
            "epoch:1, train_loss:1.2126, val_loss:1.1536, acc:0.5640\n",
            "epoch:2, train_loss:0.9796, val_loss:0.9555, acc:0.6530\n",
            "epoch:3, train_loss:0.8209, val_loss:0.9498, acc:0.6570\n",
            "epoch:4, train_loss:0.7176, val_loss:0.8145, acc:0.6930\n",
            "epoch:5, train_loss:0.6438, val_loss:0.8030, acc:0.7100\n",
            "epoch:6, train_loss:0.5735, val_loss:0.9197, acc:0.6900\n",
            "epoch:7, train_loss:0.5120, val_loss:0.7004, acc:0.7420\n",
            "epoch:8, train_loss:0.4604, val_loss:0.7587, acc:0.7590\n",
            "epoch:9, train_loss:0.3996, val_loss:0.7022, acc:0.7600\n",
            "epoch:10, train_loss:0.3411, val_loss:0.7626, acc:0.7650\n",
            "Epoch    12: reducing learning rate of group 0 to 5.0000e-04.\n",
            "epoch:11, train_loss:0.3014, val_loss:0.8236, acc:0.7490\n",
            "epoch:12, train_loss:0.1988, val_loss:0.6894, acc:0.7790\n",
            "epoch:13, train_loss:0.1438, val_loss:0.7711, acc:0.7840\n",
            "epoch:14, train_loss:0.1118, val_loss:0.8686, acc:0.7810\n",
            "epoch:15, train_loss:0.0890, val_loss:0.8922, acc:0.7700\n",
            "Epoch    17: reducing learning rate of group 0 to 2.5000e-04.\n",
            "epoch:16, train_loss:0.0664, val_loss:0.9365, acc:0.7630\n",
            "epoch:17, train_loss:0.0368, val_loss:0.9256, acc:0.7800\n",
            "epoch:18, train_loss:0.0259, val_loss:0.9798, acc:0.7810\n",
            "epoch:19, train_loss:0.0199, val_loss:1.0015, acc:0.7820\n",
            "\n"
          ],
          "name": "stdout"
        }
      ]
    },
    {
      "cell_type": "markdown",
      "metadata": {
        "id": "dBAX45os_0yP"
      },
      "source": [
        "## Load Model & Test for accuracy"
      ]
    },
    {
      "cell_type": "code",
      "metadata": {
        "id": "X8p_bjQK_CMO"
      },
      "source": [
        "model2 = torch.load(path+'cifar10_model2.pth')   "
      ],
      "execution_count": null,
      "outputs": []
    },
    {
      "cell_type": "code",
      "metadata": {
        "id": "CbDn6O7jAcaZ"
      },
      "source": [
        "folder_list = glob.glob(\"cifar10/test_small/*\")\n",
        "test_imgpath_list = []\n",
        "for folder in folder_list:\n",
        "    test_imgpath_list += glob.glob(folder+\"/*.png\")\n",
        "\n",
        "\n",
        "img_list = []\n",
        "for img_path in test_imgpath_list:\n",
        "    img  = cv2.imread(img_path, cv2.IMREAD_COLOR)\n",
        "    img_list.append(img)\n",
        "img_test_np = np.array(img_list)\n",
        "img_test_np = np.transpose(img_test_np, (0,3,1,2))\n",
        "\n",
        "test_target_list = []\n",
        "for itr in range(len(folder_list)):\n",
        "    tr_imgs_num = len(glob.glob(folder_list[itr]+\"/*.png\"))\n",
        "    test_target_list += tr_imgs_num*[itr]\n",
        "target_test_np = np.array(test_target_list)"
      ],
      "execution_count": 7,
      "outputs": []
    },
    {
      "cell_type": "code",
      "metadata": {
        "colab": {
          "base_uri": "https://localhost:8080/"
        },
        "id": "r5FQYZ1A_KIg",
        "outputId": "7f48c8e9-1acb-4b7e-d81b-80314ca7fda8"
      },
      "source": [
        "img_test_np.shape, target_test_np.shape"
      ],
      "execution_count": 8,
      "outputs": [
        {
          "output_type": "execute_result",
          "data": {
            "text/plain": [
              "((1000, 3, 28, 28), (1000,))"
            ]
          },
          "metadata": {
            "tags": []
          },
          "execution_count": 8
        }
      ]
    },
    {
      "cell_type": "code",
      "metadata": {
        "id": "dOP0jICGL95D",
        "colab": {
          "base_uri": "https://localhost:8080/"
        },
        "outputId": "490f754e-f1ee-41d5-8ed3-7ad09c78dd12"
      },
      "source": [
        "X_test_tensor = torch.tensor(img_test_np).float().to(device)\n",
        "\n",
        "output = model2(X_test_tensor)\n",
        "\n",
        "pred = torch.argmax(output, dim=1)\n",
        "pred_np = pred.cpu().detach().numpy()\n",
        "\n",
        "accu = np.mean(pred_np == target_test_np)\n",
        "\n",
        "print(accu)"
      ],
      "execution_count": 9,
      "outputs": [
        {
          "output_type": "stream",
          "text": [
            "0.784\n"
          ],
          "name": "stdout"
        }
      ]
    }
  ]
}