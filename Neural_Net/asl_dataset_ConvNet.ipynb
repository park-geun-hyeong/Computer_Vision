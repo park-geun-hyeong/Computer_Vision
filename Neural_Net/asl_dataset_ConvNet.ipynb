{
  "nbformat": 4,
  "nbformat_minor": 0,
  "metadata": {
    "colab": {
      "name": "hw3_201716175.ipynb",
      "provenance": [],
      "collapsed_sections": [],
      "include_colab_link": true
    },
    "kernelspec": {
      "name": "python3",
      "display_name": "Python 3"
    },
    "language_info": {
      "name": "python"
    },
    "accelerator": "GPU"
  },
  "cells": [
    {
      "cell_type": "markdown",
      "metadata": {
        "id": "view-in-github",
        "colab_type": "text"
      },
      "source": [
        "<a href=\"https://colab.research.google.com/github/park-geun-hyeong/practice_pytorch/blob/main/asl_dataset_ConvNet.ipynb\" target=\"_parent\"><img src=\"https://colab.research.google.com/assets/colab-badge.svg\" alt=\"Open In Colab\"/></a>"
      ]
    },
    {
      "cell_type": "markdown",
      "metadata": {
        "id": "Bzw8q8f12rOD"
      },
      "source": [
        "### 1. Data preparation"
      ]
    },
    {
      "cell_type": "code",
      "metadata": {
        "id": "pvPyoHxfVybU"
      },
      "source": [
        "import pandas as pd\n",
        "import numpy as np\n",
        "from PIL import Image"
      ],
      "execution_count": 3,
      "outputs": []
    },
    {
      "cell_type": "code",
      "metadata": {
        "id": "PHLO7-ODVy98"
      },
      "source": [
        "import torchvision.transforms as transforms\n",
        "transform = transforms.Compose([\n",
        "                                transforms.Resize(32),\n",
        "                                transforms.RandomCrop(28)\n",
        "])"
      ],
      "execution_count": 21,
      "outputs": []
    },
    {
      "cell_type": "code",
      "metadata": {
        "id": "aTzypfUI20H5"
      },
      "source": [
        "import torch\n",
        "from torch.utils.data import Dataset, DataLoader\n",
        "device = torch.device(\"cuda:0\")"
      ],
      "execution_count": 5,
      "outputs": []
    },
    {
      "cell_type": "code",
      "metadata": {
        "id": "h2BA2gWH2szR"
      },
      "source": [
        "class ASL_Dataset(Dataset):\n",
        "    def __init__(self, path, transform=None):\n",
        "        super(ASL_Dataset, self).__init__()\n",
        "\n",
        "        train_df = pd.read_csv(path)\n",
        "        y_train = train_df['label']\n",
        "        del train_df['label']\n",
        "        x_train = train_df.values\n",
        "\n",
        "        self.x_train = x_train\n",
        "        self.y_train = y_train\n",
        "        self.transform = transform\n",
        "\n",
        "\n",
        "    def __getitem__(self, index):\n",
        "\n",
        "        x_train_sample = np.uint8(self.x_train[index].reshape(28,28))\n",
        "\n",
        "        if self.transform:\n",
        "            x_train_pil = Image.fromarray(x_train_sample)\n",
        "            x_train_np = np.array(self.transform(x_train_pil))\n",
        "            x_train_tensor = torch.tensor(x_train_np[np.newaxis,:,:]).float().to(device)\n",
        "        else:\n",
        "            x_train_tensor = torch.tensor(x_train_sample[np.newaxis,:,:]).float().to(device)\n",
        "\n",
        "\n",
        "        y_train_tensor = torch.tensor(self.y_train[index]).to(device)\n",
        "\n",
        "        return x_train_tensor, y_train_tensor\n",
        "\n",
        "    def __len__(self):\n",
        "            return self.x_train.shape[0]"
      ],
      "execution_count": 57,
      "outputs": []
    },
    {
      "cell_type": "code",
      "metadata": {
        "id": "knwGppJb58I5"
      },
      "source": [
        "training_data = ASL_Dataset( \"sign_mnist_train.csv\", transform=transform)\n",
        "validation_data = ASL_Dataset( \"sign_mnist_valid.csv\")"
      ],
      "execution_count": 58,
      "outputs": []
    },
    {
      "cell_type": "code",
      "metadata": {
        "id": "B2JRE5ER696C"
      },
      "source": [
        "train_loader = DataLoader(dataset=training_data, batch_size=256, shuffle=True)\n",
        "validation_loader = DataLoader(dataset=training_data, batch_size=256, shuffle=False)"
      ],
      "execution_count": 59,
      "outputs": []
    },
    {
      "cell_type": "markdown",
      "metadata": {
        "id": "VpQUoC5y8qs3"
      },
      "source": [
        "### 2. Constructing a convolutional neural network\n",
        "\n"
      ]
    },
    {
      "cell_type": "code",
      "metadata": {
        "id": "UoCc_xB27qSf"
      },
      "source": [
        "import torch.nn as nn"
      ],
      "execution_count": 46,
      "outputs": []
    },
    {
      "cell_type": "code",
      "metadata": {
        "id": "Xkf3-oZV81-A"
      },
      "source": [
        "class ConvNet(nn.Module):\n",
        "    def __init__(self):\n",
        "        super(ConvNet, self).__init__()\n",
        "        \n",
        "        self.conv1 = nn.Conv2d(1, 16, kernel_size = 3, stride = 1, padding = 1)\n",
        "        self.conv2 = nn.Conv2d(16,32, kernel_size = 3, stride = 1, padding = 1)\n",
        "        self.conv3 = nn.Conv2d(32,32, kernel_size = 3, stride = 1, padding = 1)\n",
        "        self.relu = nn.ReLU()\n",
        "        self.pool = nn.MaxPool2d(2,2)\n",
        "        self.fc = nn.Linear(32*7*7, 24)\n",
        "\n",
        "    def forward(self, x):\n",
        "\n",
        "        x = self.conv1(x)\n",
        "        x = self.relu(x)\n",
        "        x = self.pool(x)\n",
        "\n",
        "        x = self.conv2(x)\n",
        "        x = self.relu(x)\n",
        "        x = self.pool(x)\n",
        "\n",
        "        x = self.conv3(x)\n",
        "        x = self.relu(x)\n",
        "\n",
        "        x = x.view(-1, 32*7*7)\n",
        "        x = self.fc(x)\n",
        "  \n",
        "        return x"
      ],
      "execution_count": 48,
      "outputs": []
    },
    {
      "cell_type": "code",
      "metadata": {
        "id": "z2_dir6CEeIB"
      },
      "source": [
        "convnet = ConvNet().to(device)"
      ],
      "execution_count": 60,
      "outputs": []
    },
    {
      "cell_type": "markdown",
      "metadata": {
        "id": "7f_eFzQ6FL8v"
      },
      "source": [
        "### 3. Loss function and Optimization method"
      ]
    },
    {
      "cell_type": "code",
      "metadata": {
        "id": "YWUEBC4mE_Tl"
      },
      "source": [
        "loss_function = nn.CrossEntropyLoss()\n",
        "optimizer = torch.optim.Adam(convnet.parameters(), lr = 1e-3)"
      ],
      "execution_count": 61,
      "outputs": []
    },
    {
      "cell_type": "markdown",
      "metadata": {
        "id": "MrFxVrwFFrDb"
      },
      "source": [
        "### 4. Training of a neural network"
      ]
    },
    {
      "cell_type": "code",
      "metadata": {
        "colab": {
          "base_uri": "https://localhost:8080/"
        },
        "id": "qZt1rb7sFqEe",
        "outputId": "e363da7c-d7df-4ebf-8168-5f205ed8b4a9"
      },
      "source": [
        "for epoch in range(20):\n",
        "    loss_val = 0\n",
        "    for itr, data in enumerate(train_loader):\n",
        "        input, label = data\n",
        "        \n",
        "        optimizer.zero_grad()\n",
        "\n",
        "        cost = convnet(input)\n",
        "        loss = loss_function(cost,label)\n",
        "\n",
        "        loss.backward()\n",
        "        optimizer.step()  \n",
        "\n",
        "        loss_val += loss.item()\n",
        "\n",
        "    print(\"Epoch:\", epoch+1, \"  , Loss:\", loss_val)"
      ],
      "execution_count": 62,
      "outputs": [
        {
          "output_type": "stream",
          "name": "stderr",
          "text": [
            "/usr/local/lib/python3.7/dist-packages/torch/nn/functional.py:718: UserWarning: Named tensors and all their associated APIs are an experimental feature and subject to change. Please do not use them for anything important until they are released as stable. (Triggered internally at  /pytorch/c10/core/TensorImpl.h:1156.)\n",
            "  return torch.max_pool2d(input, kernel_size, stride, padding, dilation, ceil_mode)\n"
          ]
        },
        {
          "output_type": "stream",
          "name": "stdout",
          "text": [
            "Epoch: 1   , Loss: 223.77333253622055\n",
            "Epoch: 2   , Loss: 55.67685857415199\n",
            "Epoch: 3   , Loss: 26.129411444067955\n",
            "Epoch: 4   , Loss: 14.472962468862534\n",
            "Epoch: 5   , Loss: 9.112371016293764\n",
            "Epoch: 6   , Loss: 6.886278823018074\n",
            "Epoch: 7   , Loss: 4.857309810817242\n",
            "Epoch: 8   , Loss: 4.196681473404169\n",
            "Epoch: 9   , Loss: 3.3717581406235695\n",
            "Epoch: 10   , Loss: 2.5802329529542476\n",
            "Epoch: 11   , Loss: 3.2704843361862004\n",
            "Epoch: 12   , Loss: 2.9373330646194518\n",
            "Epoch: 13   , Loss: 2.9639740055426955\n",
            "Epoch: 14   , Loss: 1.9378956754226238\n",
            "Epoch: 15   , Loss: 1.4056201614439487\n",
            "Epoch: 16   , Loss: 2.3468199253547937\n",
            "Epoch: 17   , Loss: 1.9360727994935587\n",
            "Epoch: 18   , Loss: 1.2467894761066418\n",
            "Epoch: 19   , Loss: 1.06072497140849\n",
            "Epoch: 20   , Loss: 1.3304553089255933\n"
          ]
        }
      ]
    },
    {
      "cell_type": "markdown",
      "metadata": {
        "id": "EdPhFYhgIlCp"
      },
      "source": [
        "### 5. Prediction and evaluation for a test set"
      ]
    },
    {
      "cell_type": "code",
      "metadata": {
        "colab": {
          "base_uri": "https://localhost:8080/"
        },
        "id": "iqg4kmJYGkUO",
        "outputId": "72dc24e9-25c7-4a80-8ecc-c32597c9abc9"
      },
      "source": [
        "pred_list = []\n",
        "label_list = []\n",
        "for itr, data in enumerate(validation_loader):\n",
        "    inputs, labels = data\n",
        "    pred_test = convnet(inputs)   \n",
        "    pred_cate = torch.argmax(pred_test, axis = 1)\n",
        "    \n",
        "    pred_list += list(pred_cate.cpu())\n",
        "    label_list += list(labels.cpu())  \n",
        "\n",
        "accu = np.mean(np.array(pred_list) == np.array(label_list))\n",
        "print(\"Test accuracy:\", accu)"
      ],
      "execution_count": 64,
      "outputs": [
        {
          "output_type": "stream",
          "name": "stdout",
          "text": [
            "Test accuracy: 0.9959570205791295\n"
          ]
        }
      ]
    }
  ]
}