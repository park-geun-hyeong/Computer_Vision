{
  "nbformat": 4,
  "nbformat_minor": 0,
  "metadata": {
    "colab": {
      "name": "lec19_template(1).ipynb",
      "provenance": [],
      "collapsed_sections": [],
      "include_colab_link": true
    },
    "kernelspec": {
      "name": "python3",
      "display_name": "Python 3"
    },
    "language_info": {
      "name": "python"
    },
    "accelerator": "GPU",
    "widgets": {
      "application/vnd.jupyter.widget-state+json": {
        "93cb396bcb0846ad86d77452bcdddcd2": {
          "model_module": "@jupyter-widgets/controls",
          "model_name": "HBoxModel",
          "model_module_version": "1.5.0",
          "state": {
            "_view_name": "HBoxView",
            "_dom_classes": [],
            "_model_name": "HBoxModel",
            "_view_module": "@jupyter-widgets/controls",
            "_model_module_version": "1.5.0",
            "_view_count": null,
            "_view_module_version": "1.5.0",
            "box_style": "",
            "layout": "IPY_MODEL_d680c9b8418742929b48052ca16afc3d",
            "_model_module": "@jupyter-widgets/controls",
            "children": [
              "IPY_MODEL_da7648f66c1d41da8a26468323a0d529",
              "IPY_MODEL_f083281b4e7448d5afb86d0c12930c9c",
              "IPY_MODEL_787673713f7745bbac046f1deecaebff"
            ]
          }
        },
        "d680c9b8418742929b48052ca16afc3d": {
          "model_module": "@jupyter-widgets/base",
          "model_name": "LayoutModel",
          "model_module_version": "1.2.0",
          "state": {
            "_view_name": "LayoutView",
            "grid_template_rows": null,
            "right": null,
            "justify_content": null,
            "_view_module": "@jupyter-widgets/base",
            "overflow": null,
            "_model_module_version": "1.2.0",
            "_view_count": null,
            "flex_flow": null,
            "width": null,
            "min_width": null,
            "border": null,
            "align_items": null,
            "bottom": null,
            "_model_module": "@jupyter-widgets/base",
            "top": null,
            "grid_column": null,
            "overflow_y": null,
            "overflow_x": null,
            "grid_auto_flow": null,
            "grid_area": null,
            "grid_template_columns": null,
            "flex": null,
            "_model_name": "LayoutModel",
            "justify_items": null,
            "grid_row": null,
            "max_height": null,
            "align_content": null,
            "visibility": null,
            "align_self": null,
            "height": null,
            "min_height": null,
            "padding": null,
            "grid_auto_rows": null,
            "grid_gap": null,
            "max_width": null,
            "order": null,
            "_view_module_version": "1.2.0",
            "grid_template_areas": null,
            "object_position": null,
            "object_fit": null,
            "grid_auto_columns": null,
            "margin": null,
            "display": null,
            "left": null
          }
        },
        "da7648f66c1d41da8a26468323a0d529": {
          "model_module": "@jupyter-widgets/controls",
          "model_name": "HTMLModel",
          "model_module_version": "1.5.0",
          "state": {
            "_view_name": "HTMLView",
            "style": "IPY_MODEL_e50c0a698d464686b55e7dba2826321e",
            "_dom_classes": [],
            "description": "",
            "_model_name": "HTMLModel",
            "placeholder": "​",
            "_view_module": "@jupyter-widgets/controls",
            "_model_module_version": "1.5.0",
            "value": "100%",
            "_view_count": null,
            "_view_module_version": "1.5.0",
            "description_tooltip": null,
            "_model_module": "@jupyter-widgets/controls",
            "layout": "IPY_MODEL_16ad19c69bb04625b57e3ff3e18e66d4"
          }
        },
        "f083281b4e7448d5afb86d0c12930c9c": {
          "model_module": "@jupyter-widgets/controls",
          "model_name": "FloatProgressModel",
          "model_module_version": "1.5.0",
          "state": {
            "_view_name": "ProgressView",
            "style": "IPY_MODEL_d20e487973d24ad38159b9dc319d9262",
            "_dom_classes": [],
            "description": "",
            "_model_name": "FloatProgressModel",
            "bar_style": "success",
            "max": 553433881,
            "_view_module": "@jupyter-widgets/controls",
            "_model_module_version": "1.5.0",
            "value": 553433881,
            "_view_count": null,
            "_view_module_version": "1.5.0",
            "orientation": "horizontal",
            "min": 0,
            "description_tooltip": null,
            "_model_module": "@jupyter-widgets/controls",
            "layout": "IPY_MODEL_9f882fffb66742009de724456c73ad68"
          }
        },
        "787673713f7745bbac046f1deecaebff": {
          "model_module": "@jupyter-widgets/controls",
          "model_name": "HTMLModel",
          "model_module_version": "1.5.0",
          "state": {
            "_view_name": "HTMLView",
            "style": "IPY_MODEL_e8bc4458fd944516902f0cc6c2f82deb",
            "_dom_classes": [],
            "description": "",
            "_model_name": "HTMLModel",
            "placeholder": "​",
            "_view_module": "@jupyter-widgets/controls",
            "_model_module_version": "1.5.0",
            "value": " 528M/528M [00:06&lt;00:00, 94.8MB/s]",
            "_view_count": null,
            "_view_module_version": "1.5.0",
            "description_tooltip": null,
            "_model_module": "@jupyter-widgets/controls",
            "layout": "IPY_MODEL_95f5be925dec4f618f291d48a7f86526"
          }
        },
        "e50c0a698d464686b55e7dba2826321e": {
          "model_module": "@jupyter-widgets/controls",
          "model_name": "DescriptionStyleModel",
          "model_module_version": "1.5.0",
          "state": {
            "_view_name": "StyleView",
            "_model_name": "DescriptionStyleModel",
            "description_width": "",
            "_view_module": "@jupyter-widgets/base",
            "_model_module_version": "1.5.0",
            "_view_count": null,
            "_view_module_version": "1.2.0",
            "_model_module": "@jupyter-widgets/controls"
          }
        },
        "16ad19c69bb04625b57e3ff3e18e66d4": {
          "model_module": "@jupyter-widgets/base",
          "model_name": "LayoutModel",
          "model_module_version": "1.2.0",
          "state": {
            "_view_name": "LayoutView",
            "grid_template_rows": null,
            "right": null,
            "justify_content": null,
            "_view_module": "@jupyter-widgets/base",
            "overflow": null,
            "_model_module_version": "1.2.0",
            "_view_count": null,
            "flex_flow": null,
            "width": null,
            "min_width": null,
            "border": null,
            "align_items": null,
            "bottom": null,
            "_model_module": "@jupyter-widgets/base",
            "top": null,
            "grid_column": null,
            "overflow_y": null,
            "overflow_x": null,
            "grid_auto_flow": null,
            "grid_area": null,
            "grid_template_columns": null,
            "flex": null,
            "_model_name": "LayoutModel",
            "justify_items": null,
            "grid_row": null,
            "max_height": null,
            "align_content": null,
            "visibility": null,
            "align_self": null,
            "height": null,
            "min_height": null,
            "padding": null,
            "grid_auto_rows": null,
            "grid_gap": null,
            "max_width": null,
            "order": null,
            "_view_module_version": "1.2.0",
            "grid_template_areas": null,
            "object_position": null,
            "object_fit": null,
            "grid_auto_columns": null,
            "margin": null,
            "display": null,
            "left": null
          }
        },
        "d20e487973d24ad38159b9dc319d9262": {
          "model_module": "@jupyter-widgets/controls",
          "model_name": "ProgressStyleModel",
          "model_module_version": "1.5.0",
          "state": {
            "_view_name": "StyleView",
            "_model_name": "ProgressStyleModel",
            "description_width": "",
            "_view_module": "@jupyter-widgets/base",
            "_model_module_version": "1.5.0",
            "_view_count": null,
            "_view_module_version": "1.2.0",
            "bar_color": null,
            "_model_module": "@jupyter-widgets/controls"
          }
        },
        "9f882fffb66742009de724456c73ad68": {
          "model_module": "@jupyter-widgets/base",
          "model_name": "LayoutModel",
          "model_module_version": "1.2.0",
          "state": {
            "_view_name": "LayoutView",
            "grid_template_rows": null,
            "right": null,
            "justify_content": null,
            "_view_module": "@jupyter-widgets/base",
            "overflow": null,
            "_model_module_version": "1.2.0",
            "_view_count": null,
            "flex_flow": null,
            "width": null,
            "min_width": null,
            "border": null,
            "align_items": null,
            "bottom": null,
            "_model_module": "@jupyter-widgets/base",
            "top": null,
            "grid_column": null,
            "overflow_y": null,
            "overflow_x": null,
            "grid_auto_flow": null,
            "grid_area": null,
            "grid_template_columns": null,
            "flex": null,
            "_model_name": "LayoutModel",
            "justify_items": null,
            "grid_row": null,
            "max_height": null,
            "align_content": null,
            "visibility": null,
            "align_self": null,
            "height": null,
            "min_height": null,
            "padding": null,
            "grid_auto_rows": null,
            "grid_gap": null,
            "max_width": null,
            "order": null,
            "_view_module_version": "1.2.0",
            "grid_template_areas": null,
            "object_position": null,
            "object_fit": null,
            "grid_auto_columns": null,
            "margin": null,
            "display": null,
            "left": null
          }
        },
        "e8bc4458fd944516902f0cc6c2f82deb": {
          "model_module": "@jupyter-widgets/controls",
          "model_name": "DescriptionStyleModel",
          "model_module_version": "1.5.0",
          "state": {
            "_view_name": "StyleView",
            "_model_name": "DescriptionStyleModel",
            "description_width": "",
            "_view_module": "@jupyter-widgets/base",
            "_model_module_version": "1.5.0",
            "_view_count": null,
            "_view_module_version": "1.2.0",
            "_model_module": "@jupyter-widgets/controls"
          }
        },
        "95f5be925dec4f618f291d48a7f86526": {
          "model_module": "@jupyter-widgets/base",
          "model_name": "LayoutModel",
          "model_module_version": "1.2.0",
          "state": {
            "_view_name": "LayoutView",
            "grid_template_rows": null,
            "right": null,
            "justify_content": null,
            "_view_module": "@jupyter-widgets/base",
            "overflow": null,
            "_model_module_version": "1.2.0",
            "_view_count": null,
            "flex_flow": null,
            "width": null,
            "min_width": null,
            "border": null,
            "align_items": null,
            "bottom": null,
            "_model_module": "@jupyter-widgets/base",
            "top": null,
            "grid_column": null,
            "overflow_y": null,
            "overflow_x": null,
            "grid_auto_flow": null,
            "grid_area": null,
            "grid_template_columns": null,
            "flex": null,
            "_model_name": "LayoutModel",
            "justify_items": null,
            "grid_row": null,
            "max_height": null,
            "align_content": null,
            "visibility": null,
            "align_self": null,
            "height": null,
            "min_height": null,
            "padding": null,
            "grid_auto_rows": null,
            "grid_gap": null,
            "max_width": null,
            "order": null,
            "_view_module_version": "1.2.0",
            "grid_template_areas": null,
            "object_position": null,
            "object_fit": null,
            "grid_auto_columns": null,
            "margin": null,
            "display": null,
            "left": null
          }
        }
      }
    }
  },
  "cells": [
    {
      "cell_type": "markdown",
      "metadata": {
        "id": "view-in-github",
        "colab_type": "text"
      },
      "source": [
        "<a href=\"https://colab.research.google.com/github/park-geun-hyeong/practice_pytorch/blob/main/transfer_learning.ipynb\" target=\"_parent\"><img src=\"https://colab.research.google.com/assets/colab-badge.svg\" alt=\"Open In Colab\"/></a>"
      ]
    },
    {
      "cell_type": "code",
      "metadata": {
        "id": "taqFvpC_QXNN"
      },
      "source": [
        "# !apt install unzip\n",
        "# !unzip hw5_doghole_keeper.zip"
      ],
      "execution_count": null,
      "outputs": []
    },
    {
      "cell_type": "code",
      "metadata": {
        "id": "wogg6PL8JH1S"
      },
      "source": [
        "import os\n",
        "import gc\n",
        "PATH = '/content/drive/MyDrive/PyTorch/homework/IT_HW5/hw5_doghole_keeper/'\n",
        "os.chdir(PATH)"
      ],
      "execution_count": 14,
      "outputs": []
    },
    {
      "cell_type": "code",
      "metadata": {
        "id": "30EAMEIuSo98"
      },
      "source": [
        "import numpy as np\n",
        "import cv2\n",
        "import glob\n",
        "from PIL import Image\n",
        "\n",
        "import torch\n",
        "import torch.nn as nn\n",
        "from torch.utils.data import Dataset, DataLoader\n",
        "\n",
        "from torchvision import transforms as T\n",
        "import torchvision.models as models\n",
        "import sys\n",
        "sys.setrecursionlimit(10000)"
      ],
      "execution_count": 29,
      "outputs": []
    },
    {
      "cell_type": "markdown",
      "metadata": {
        "id": "wsGRRAw8XMwh"
      },
      "source": [
        "### 1. Data preparation"
      ]
    },
    {
      "cell_type": "code",
      "metadata": {
        "id": "8R2_D4_YTfYj"
      },
      "source": [
        "transform = T.Compose([T.Resize(256), T.RandomCrop(224), T.ToTensor()])\n",
        "device = 'cuda' if torch.cuda.is_available() else 'cpu'"
      ],
      "execution_count": 16,
      "outputs": []
    },
    {
      "cell_type": "code",
      "metadata": {
        "id": "bJbia-qIT-94"
      },
      "source": [
        "class Dataset(Dataset):\n",
        "    def __init__(self, path='train'):\n",
        "        super(Dataset, self).__init__()\n",
        "\n",
        "        self.img_path = []\n",
        "        bo_path = glob.glob(path + '/bo/*.jpg')\n",
        "        notbo_path = glob.glob(path + '/not_bo/*.jpg')\n",
        "        \n",
        "        self.img_path = bo_path + notbo_path\n",
        "        self.label = [1] * len(bo_path) + [0]*len(notbo_path)\n",
        "\n",
        "        \n",
        "    def __getitem__(self, index):\n",
        "        img = cv2.imread(self.img_path[index])\n",
        "        img_pil = Image.fromarray(img) ## pil object(from array to img)\n",
        "\n",
        "        self.img_tensor = transform(img_pil)      \n",
        "        self.label_tensor = torch.tensor(self.label[index])\n",
        "\n",
        "        return self.img_tensor.to(device), self.label_tensor.to(device)\n",
        "        \n",
        "    def __len__(self):\n",
        "        return len(self.img_path)"
      ],
      "execution_count": 30,
      "outputs": []
    },
    {
      "cell_type": "code",
      "metadata": {
        "id": "6HNEkE6eWme6"
      },
      "source": [
        "training_dataset = Dataset('train')\n",
        "training_loader = DataLoader(dataset=training_dataset, batch_size=8, shuffle=True)"
      ],
      "execution_count": 31,
      "outputs": []
    },
    {
      "cell_type": "code",
      "metadata": {
        "id": "EW8qUm_eW-1V"
      },
      "source": [
        "validation_dataset = Dataset('valid')\n",
        "validation_loader = DataLoader(dataset=validation_dataset, batch_size=8, shuffle=False)"
      ],
      "execution_count": 32,
      "outputs": []
    },
    {
      "cell_type": "markdown",
      "metadata": {
        "id": "NwKUKK6NXqtD"
      },
      "source": [
        "### 2. Constructing a convolutional neural network"
      ]
    },
    {
      "cell_type": "code",
      "metadata": {
        "id": "8GlXRRLfXE-a",
        "colab": {
          "base_uri": "https://localhost:8080/",
          "height": 67,
          "referenced_widgets": [
            "93cb396bcb0846ad86d77452bcdddcd2",
            "d680c9b8418742929b48052ca16afc3d",
            "da7648f66c1d41da8a26468323a0d529",
            "f083281b4e7448d5afb86d0c12930c9c",
            "787673713f7745bbac046f1deecaebff",
            "e50c0a698d464686b55e7dba2826321e",
            "16ad19c69bb04625b57e3ff3e18e66d4",
            "d20e487973d24ad38159b9dc319d9262",
            "9f882fffb66742009de724456c73ad68",
            "e8bc4458fd944516902f0cc6c2f82deb",
            "95f5be925dec4f618f291d48a7f86526"
          ]
        },
        "outputId": "be34be0d-b92d-40c3-872b-2a940e4c6653"
      },
      "source": [
        "vgg16 = models.vgg16(pretrained = True)"
      ],
      "execution_count": 42,
      "outputs": [
        {
          "output_type": "stream",
          "name": "stderr",
          "text": [
            "Downloading: \"https://download.pytorch.org/models/vgg16-397923af.pth\" to /root/.cache/torch/hub/checkpoints/vgg16-397923af.pth\n"
          ]
        },
        {
          "output_type": "display_data",
          "data": {
            "application/vnd.jupyter.widget-view+json": {
              "model_id": "93cb396bcb0846ad86d77452bcdddcd2",
              "version_minor": 0,
              "version_major": 2
            },
            "text/plain": [
              "  0%|          | 0.00/528M [00:00<?, ?B/s]"
            ]
          },
          "metadata": {}
        }
      ]
    },
    {
      "cell_type": "code",
      "metadata": {
        "id": "QLkqv96be1CB"
      },
      "source": [
        "for param in vgg16.parameters():\n",
        "    param.requires_grad = False ##  ` fc layer를 제외하고 나머지 pretrained_parameter들은 freezing"
      ],
      "execution_count": 46,
      "outputs": []
    },
    {
      "cell_type": "code",
      "metadata": {
        "id": "l90y8i4yYbQa"
      },
      "source": [
        "num_features = vgg16.classifier[0].in_features\n",
        "vgg16.classifier = nn.Sequential(\n",
        "\n",
        "    nn.Linear(num_features, 4096),\n",
        "    nn.ReLU(),\n",
        "    nn.Dropout(0.2),\n",
        "\n",
        "    nn.Linear(4096, 1024),\n",
        "    nn.ReLU(),\n",
        "    nn.Dropout(0.2),\n",
        "\n",
        "    nn.Linear(1024, 128),\n",
        "    nn.ReLU(),\n",
        "    nn.Dropout(0.2),\n",
        "\n",
        "    nn.Linear(128, 2)\n",
        ")"
      ],
      "execution_count": 47,
      "outputs": []
    },
    {
      "cell_type": "code",
      "metadata": {
        "id": "-ypOMD0nY5Zz"
      },
      "source": [
        "vgg16 = vgg16.to(device)"
      ],
      "execution_count": 48,
      "outputs": []
    },
    {
      "cell_type": "markdown",
      "metadata": {
        "id": "q3eYc1EXZN3J"
      },
      "source": [
        "### 3. Loss function and optimization method"
      ]
    },
    {
      "cell_type": "code",
      "metadata": {
        "id": "sRPzR0cZZGR0"
      },
      "source": [
        "loss_function = nn.CrossEntropyLoss()\n",
        "optimizer = torch.optim.Adam(vgg16.parameters(), lr=0.0001) ## 일반적으로 기존 model을 학습할때 사용했던 lr의 0.1배를 사용하면 좋다,"
      ],
      "execution_count": 49,
      "outputs": []
    },
    {
      "cell_type": "markdown",
      "metadata": {
        "id": "b_FZkxxhZlIR"
      },
      "source": [
        "### 4. Training of a neural network"
      ]
    },
    {
      "cell_type": "code",
      "metadata": {
        "colab": {
          "base_uri": "https://localhost:8080/"
        },
        "id": "XBVoeinNZnuI",
        "outputId": "e25bd7e1-04a7-4f3e-f604-527db00589bd"
      },
      "source": [
        "for epoch in range(10):\n",
        "    loss_val = 0\n",
        "    for itr, data in enumerate(training_loader):\n",
        "        optimizer.zero_grad()\n",
        "\n",
        "        inputs, labels = data\n",
        "\n",
        "        pred = vgg16(inputs)\n",
        "        loss = loss_function(pred, labels)\n",
        "\n",
        "        loss.backward()\n",
        "        optimizer.step()\n",
        "\n",
        "        loss_val += loss.item()\n",
        "\n",
        "    print(\"Epoch:\", epoch+1, \"  , Loss:\", loss_val)"
      ],
      "execution_count": 50,
      "outputs": [
        {
          "output_type": "stream",
          "name": "stdout",
          "text": [
            "Epoch: 1   , Loss: 5.729405213147402\n",
            "Epoch: 2   , Loss: 1.3371542356035206\n",
            "Epoch: 3   , Loss: 1.3224139358244429\n",
            "Epoch: 4   , Loss: 0.3523135763261962\n",
            "Epoch: 5   , Loss: 0.07477253729681621\n",
            "Epoch: 6   , Loss: 0.024201838707540446\n",
            "Epoch: 7   , Loss: 0.011665237727058297\n",
            "Epoch: 8   , Loss: 0.0070560451293877335\n",
            "Epoch: 9   , Loss: 0.007153801831178974\n",
            "Epoch: 10   , Loss: 0.003982487985716432\n"
          ]
        }
      ]
    },
    {
      "cell_type": "markdown",
      "metadata": {
        "id": "NC7K-o4AbQ3Z"
      },
      "source": [
        "### 5. Prediction and evluation for the validation set"
      ]
    },
    {
      "cell_type": "code",
      "metadata": {
        "colab": {
          "base_uri": "https://localhost:8080/"
        },
        "id": "4g3F92fvaSlZ",
        "outputId": "86943df0-941f-48c1-c0ab-b645757ae6de"
      },
      "source": [
        "pred_list = []\n",
        "label_list = []\n",
        "\n",
        "for itr, data in enumerate(validation_loader):\n",
        "    inputs, labels = data\n",
        "\n",
        "    pred = vgg16(inputs)\n",
        "    pred_category = torch.argmax(pred, dim=1)\n",
        "\n",
        "    pred_list = pred_list + list(pred_category)\n",
        "    label_list = label_list + list(labels)\n",
        "\n",
        "accu = np.mean( np.array(pred_list) == np.array(label_list) )\n",
        "print(\"Validation accuracy:\", accu)"
      ],
      "execution_count": 51,
      "outputs": [
        {
          "output_type": "stream",
          "name": "stdout",
          "text": [
            "Validation accuracy: 0.9333333333333333\n"
          ]
        }
      ]
    },
    {
      "cell_type": "code",
      "metadata": {
        "colab": {
          "base_uri": "https://localhost:8080/"
        },
        "id": "CKqpi4p7cHpB",
        "outputId": "86c8afbc-8dde-414d-e8b4-d0bca3920747"
      },
      "source": [
        "pred_list"
      ],
      "execution_count": 52,
      "outputs": [
        {
          "output_type": "execute_result",
          "data": {
            "text/plain": [
              "[tensor(1, device='cuda:0'),\n",
              " tensor(1, device='cuda:0'),\n",
              " tensor(1, device='cuda:0'),\n",
              " tensor(0, device='cuda:0'),\n",
              " tensor(1, device='cuda:0'),\n",
              " tensor(1, device='cuda:0'),\n",
              " tensor(1, device='cuda:0'),\n",
              " tensor(0, device='cuda:0'),\n",
              " tensor(1, device='cuda:0'),\n",
              " tensor(1, device='cuda:0'),\n",
              " tensor(0, device='cuda:0'),\n",
              " tensor(0, device='cuda:0'),\n",
              " tensor(0, device='cuda:0'),\n",
              " tensor(0, device='cuda:0'),\n",
              " tensor(0, device='cuda:0'),\n",
              " tensor(0, device='cuda:0'),\n",
              " tensor(0, device='cuda:0'),\n",
              " tensor(0, device='cuda:0'),\n",
              " tensor(0, device='cuda:0'),\n",
              " tensor(0, device='cuda:0'),\n",
              " tensor(0, device='cuda:0'),\n",
              " tensor(0, device='cuda:0'),\n",
              " tensor(0, device='cuda:0'),\n",
              " tensor(0, device='cuda:0'),\n",
              " tensor(0, device='cuda:0'),\n",
              " tensor(0, device='cuda:0'),\n",
              " tensor(0, device='cuda:0'),\n",
              " tensor(0, device='cuda:0'),\n",
              " tensor(0, device='cuda:0'),\n",
              " tensor(0, device='cuda:0')]"
            ]
          },
          "metadata": {},
          "execution_count": 52
        }
      ]
    },
    {
      "cell_type": "code",
      "metadata": {
        "id": "o7U1263if9VE",
        "colab": {
          "base_uri": "https://localhost:8080/"
        },
        "outputId": "8a65defe-3e8d-499f-fbbc-a44189916f84"
      },
      "source": [
        "np.array([i.detach().cpu() for i in pred_list])"
      ],
      "execution_count": 53,
      "outputs": [
        {
          "output_type": "execute_result",
          "data": {
            "text/plain": [
              "array([1, 1, 1, 0, 1, 1, 1, 0, 1, 1, 0, 0, 0, 0, 0, 0, 0, 0, 0, 0, 0, 0,\n",
              "       0, 0, 0, 0, 0, 0, 0, 0])"
            ]
          },
          "metadata": {},
          "execution_count": 53
        }
      ]
    }
  ]
}