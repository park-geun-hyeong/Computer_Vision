{
  "nbformat": 4,
  "nbformat_minor": 0,
  "metadata": {
    "colab": {
      "name": "Rogistic_Regression.ipynb",
      "provenance": [],
      "collapsed_sections": [],
      "authorship_tag": "ABX9TyMfoLurCxLIrofGjdpj0znU",
      "include_colab_link": true
    },
    "kernelspec": {
      "name": "python3",
      "display_name": "Python 3"
    },
    "language_info": {
      "name": "python"
    }
  },
  "cells": [
    {
      "cell_type": "markdown",
      "metadata": {
        "id": "view-in-github",
        "colab_type": "text"
      },
      "source": [
        "<a href=\"https://colab.research.google.com/github/park-geun-hyeong/practice_pytorch/blob/main/Rogistic_Regression.ipynb\" target=\"_parent\"><img src=\"https://colab.research.google.com/assets/colab-badge.svg\" alt=\"Open In Colab\"/></a>"
      ]
    },
    {
      "cell_type": "code",
      "metadata": {
        "id": "6JeulbRkAi3s"
      },
      "source": [
        "import torch\n",
        "import torch.nn as nn\n",
        "import torch.optim as optim\n",
        "import torch.nn.init as init\n",
        "import torch.nn.functional as F\n",
        "\n",
        "import pandas as pd\n",
        "import numpy as np \n",
        "import matplotlib.pyplot as plt\n"
      ],
      "execution_count": 64,
      "outputs": []
    },
    {
      "cell_type": "markdown",
      "metadata": {
        "id": "vH7lxTUFNLw4"
      },
      "source": [
        "## 직접 sigmoid, cross_entropy함수를 구현함으로써 model 생성"
      ]
    },
    {
      "cell_type": "code",
      "metadata": {
        "colab": {
          "base_uri": "https://localhost:8080/"
        },
        "id": "QKrwGbWACTpE",
        "outputId": "2b4f9a21-5ac7-4cd0-887d-2c9832025624"
      },
      "source": [
        "x_data = [[1,2],[2,3],[3,1],[4,3],[5,2],[6,4]]\n",
        "y_data = [[0],[0],[0],[1],[1],[1]]\n",
        "\n",
        "x_train = torch.FloatTensor(x_data)\n",
        "y_train = torch.FloatTensor(y_data) \n",
        "\n",
        "W = torch.zeros((2,1), requires_grad=True)\n",
        "b = torch.zeros(1, requires_grad=True)\n",
        "\n",
        "hypothesis = 1/ (1+ torch.exp(-(x_train.matmul(W)+b))) ## Sigmoid(Wx+b) 형태\n",
        "losses = -(y_train*torch.log(hypothesis) + (1-y_train)*torch.log(1-hypothesis))   ## Cross_Entropy Loss\n",
        "cost = losses.mean()\n",
        "print(cost)"
      ],
      "execution_count": 69,
      "outputs": [
        {
          "output_type": "stream",
          "text": [
            "tensor(0.6931, grad_fn=<MeanBackward0>)\n"
          ],
          "name": "stdout"
        }
      ]
    },
    {
      "cell_type": "code",
      "metadata": {
        "colab": {
          "base_uri": "https://localhost:8080/"
        },
        "id": "2i08BQ3WEs8R",
        "outputId": "e250f468-0972-4f23-e5f3-36f1b75bcc81"
      },
      "source": [
        "optimizer = optim.SGD([W,b],lr=0.01)\n",
        "\n",
        "\n",
        "for epoch in tqdm(range(10000)):\n",
        "    hypothesis = 1 / (1+torch.exp(-(x_train.matmul(W)+b)))\n",
        "    losses = -(y_train*torch.log(hypothesis) + (1-y_train)*torch.log(1-hypothesis))\n",
        "    cost = losses.mean() \n",
        "\n",
        "    optimizer.zero_grad()\n",
        "    cost.backward()\n",
        "    optimizer.step()\n",
        "\n",
        "    if epoch % 1000==0:\n",
        "        print(f'epoch:{epoch}, loss: {cost.item()}')"
      ],
      "execution_count": 59,
      "outputs": [
        {
          "output_type": "stream",
          "text": [
            "  6%|▌         | 592/10000 [00:00<00:03, 2883.66it/s]"
          ],
          "name": "stderr"
        },
        {
          "output_type": "stream",
          "text": [
            "epoch:0, loss: 0.6931471824645996\n"
          ],
          "name": "stdout"
        },
        {
          "output_type": "stream",
          "text": [
            " 14%|█▍        | 1444/10000 [00:00<00:02, 2856.32it/s]"
          ],
          "name": "stderr"
        },
        {
          "output_type": "stream",
          "text": [
            "epoch:1000, loss: 0.41277217864990234\n"
          ],
          "name": "stdout"
        },
        {
          "output_type": "stream",
          "text": [
            " 23%|██▎       | 2293/10000 [00:00<00:02, 2831.78it/s]"
          ],
          "name": "stderr"
        },
        {
          "output_type": "stream",
          "text": [
            "epoch:2000, loss: 0.3422815501689911\n"
          ],
          "name": "stdout"
        },
        {
          "output_type": "stream",
          "text": [
            " 34%|███▍      | 3425/10000 [00:01<00:02, 2852.32it/s]"
          ],
          "name": "stderr"
        },
        {
          "output_type": "stream",
          "text": [
            "epoch:3000, loss: 0.2936725914478302\n"
          ],
          "name": "stdout"
        },
        {
          "output_type": "stream",
          "text": [
            " 46%|████▌     | 4606/10000 [00:01<00:01, 2922.37it/s]"
          ],
          "name": "stderr"
        },
        {
          "output_type": "stream",
          "text": [
            "epoch:4000, loss: 0.2573258578777313\n"
          ],
          "name": "stdout"
        },
        {
          "output_type": "stream",
          "text": [
            " 55%|█████▍    | 5475/10000 [00:01<00:01, 2830.13it/s]"
          ],
          "name": "stderr"
        },
        {
          "output_type": "stream",
          "text": [
            "epoch:5000, loss: 0.2291760891675949\n"
          ],
          "name": "stdout"
        },
        {
          "output_type": "stream",
          "text": [
            " 63%|██████▎   | 6327/10000 [00:02<00:01, 2758.28it/s]"
          ],
          "name": "stderr"
        },
        {
          "output_type": "stream",
          "text": [
            "epoch:6000, loss: 0.2067360281944275\n"
          ],
          "name": "stdout"
        },
        {
          "output_type": "stream",
          "text": [
            " 75%|███████▍  | 7482/10000 [00:02<00:00, 2839.94it/s]"
          ],
          "name": "stderr"
        },
        {
          "output_type": "stream",
          "text": [
            "epoch:7000, loss: 0.1884099245071411\n"
          ],
          "name": "stdout"
        },
        {
          "output_type": "stream",
          "text": [
            " 84%|████████▎ | 8353/10000 [00:02<00:00, 2828.43it/s]"
          ],
          "name": "stderr"
        },
        {
          "output_type": "stream",
          "text": [
            "epoch:8000, loss: 0.17314155399799347\n"
          ],
          "name": "stdout"
        },
        {
          "output_type": "stream",
          "text": [
            " 95%|█████████▌| 9533/10000 [00:03<00:00, 2912.04it/s]"
          ],
          "name": "stderr"
        },
        {
          "output_type": "stream",
          "text": [
            "epoch:9000, loss: 0.1602088063955307\n"
          ],
          "name": "stdout"
        },
        {
          "output_type": "stream",
          "text": [
            "100%|██████████| 10000/10000 [00:03<00:00, 2826.51it/s]\n"
          ],
          "name": "stderr"
        }
      ]
    },
    {
      "cell_type": "code",
      "metadata": {
        "id": "NDneabFOF1zD"
      },
      "source": [
        "hypothesis = torch.sigmoid(x_train.matmul(W)+b)"
      ],
      "execution_count": 60,
      "outputs": []
    },
    {
      "cell_type": "code",
      "metadata": {
        "colab": {
          "base_uri": "https://localhost:8080/"
        },
        "id": "XfyFyIk_GxZB",
        "outputId": "5b11f385-298f-4f06-c945-442977f78746"
      },
      "source": [
        "hypothesis"
      ],
      "execution_count": 61,
      "outputs": [
        {
          "output_type": "execute_result",
          "data": {
            "text/plain": [
              "tensor([[0.0277],\n",
              "        [0.1463],\n",
              "        [0.3141],\n",
              "        [0.7827],\n",
              "        [0.9265],\n",
              "        [0.9900]], grad_fn=<SigmoidBackward>)"
            ]
          },
          "metadata": {
            "tags": []
          },
          "execution_count": 61
        }
      ]
    },
    {
      "cell_type": "code",
      "metadata": {
        "colab": {
          "base_uri": "https://localhost:8080/"
        },
        "id": "GomYquMzGxfY",
        "outputId": "10480566-2089-414a-a46b-09e9a4e1f793"
      },
      "source": [
        "prediction = hypothesis>=torch.Tensor([0.5])\n",
        "prediction"
      ],
      "execution_count": 62,
      "outputs": [
        {
          "output_type": "execute_result",
          "data": {
            "text/plain": [
              "tensor([[False],\n",
              "        [False],\n",
              "        [False],\n",
              "        [ True],\n",
              "        [ True],\n",
              "        [ True]])"
            ]
          },
          "metadata": {
            "tags": []
          },
          "execution_count": 62
        }
      ]
    },
    {
      "cell_type": "markdown",
      "metadata": {
        "id": "KQvv9Y5eNFD0"
      },
      "source": [
        "## nn.Sequentail 함수를 이용한 model 생성"
      ]
    },
    {
      "cell_type": "code",
      "metadata": {
        "id": "G9bWMHpbGxll"
      },
      "source": [
        "model = nn.Sequential(\n",
        "    nn.Linear(2,1),\n",
        "    nn.Sigmoid()\n",
        ")"
      ],
      "execution_count": 63,
      "outputs": []
    },
    {
      "cell_type": "code",
      "metadata": {
        "id": "rBe35oILJYGf"
      },
      "source": [
        "optimizer = optim.Adam(model.parameters(),lr=0.01)"
      ],
      "execution_count": 76,
      "outputs": []
    },
    {
      "cell_type": "code",
      "metadata": {
        "colab": {
          "base_uri": "https://localhost:8080/"
        },
        "id": "UGQyd4V7GxsD",
        "outputId": "4d97ad7f-4dcf-457a-f497-541c21453005"
      },
      "source": [
        "for epoch in tqdm(range(1000)):\n",
        "    optimizer.zero_grad()\n",
        "    logits = model(x_train)\n",
        "    loss = F.binary_cross_entropy(logits, y_train)\n",
        "\n",
        "    loss.backward()\n",
        "    optimizer.step()\n",
        "\n",
        "    if epoch % 100==0:\n",
        "        print(f'epoch:{epoch}, loss: {loss.item()}')"
      ],
      "execution_count": 77,
      "outputs": [
        {
          "output_type": "stream",
          "text": [
            " 52%|█████▏    | 523/1000 [00:00<00:00, 2571.07it/s]"
          ],
          "name": "stderr"
        },
        {
          "output_type": "stream",
          "text": [
            "epoch:0, loss: 0.07493040710687637\n",
            "epoch:100, loss: 0.06048277020454407\n",
            "epoch:200, loss: 0.04977576807141304\n",
            "epoch:300, loss: 0.041668329387903214\n",
            "epoch:400, loss: 0.03538207337260246\n",
            "epoch:500, loss: 0.030408544465899467\n"
          ],
          "name": "stdout"
        },
        {
          "output_type": "stream",
          "text": [
            "100%|██████████| 1000/1000 [00:00<00:00, 2682.11it/s]"
          ],
          "name": "stderr"
        },
        {
          "output_type": "stream",
          "text": [
            "epoch:600, loss: 0.02640472911298275\n",
            "epoch:700, loss: 0.02313263900578022\n",
            "epoch:800, loss: 0.0204231608659029\n",
            "epoch:900, loss: 0.018153365701436996\n"
          ],
          "name": "stdout"
        },
        {
          "output_type": "stream",
          "text": [
            "\n"
          ],
          "name": "stderr"
        }
      ]
    },
    {
      "cell_type": "code",
      "metadata": {
        "colab": {
          "base_uri": "https://localhost:8080/"
        },
        "id": "FwbVOXNiJ6xi",
        "outputId": "6728688c-6507-41e4-84f3-79ba6af176ab"
      },
      "source": [
        "print(list(model.parameters()))"
      ],
      "execution_count": 80,
      "outputs": [
        {
          "output_type": "stream",
          "text": [
            "[Parameter containing:\n",
            "tensor([[3.5560, 1.5782]], requires_grad=True), Parameter containing:\n",
            "tensor([-15.5635], requires_grad=True)]\n"
          ],
          "name": "stdout"
        }
      ]
    },
    {
      "cell_type": "code",
      "metadata": {
        "colab": {
          "base_uri": "https://localhost:8080/"
        },
        "id": "izfalqnWMJDd",
        "outputId": "e2f21130-5060-4258-dc1a-7c9d74667a66"
      },
      "source": [
        "model(x_train)"
      ],
      "execution_count": 82,
      "outputs": [
        {
          "output_type": "execute_result",
          "data": {
            "text/plain": [
              "tensor([[1.4321e-04],\n",
              "        [2.3734e-02],\n",
              "        [3.4983e-02],\n",
              "        [9.6755e-01],\n",
              "        [9.9538e-01],\n",
              "        [9.9999e-01]], grad_fn=<SigmoidBackward>)"
            ]
          },
          "metadata": {
            "tags": []
          },
          "execution_count": 82
        }
      ]
    },
    {
      "cell_type": "markdown",
      "metadata": {
        "id": "Kz4kl_SuNAqC"
      },
      "source": [
        "## Class를 이용한 Model 생성"
      ]
    },
    {
      "cell_type": "code",
      "metadata": {
        "id": "RHoalRuiKegC"
      },
      "source": [
        " class BinaryClassifier(nn.Module):\n",
        "     def __init__(self):\n",
        "        super().__init__()      \n",
        "\n",
        "        self.linear = nn.Linear(2,1)\n",
        "        self.sigmoid = nn.Sigmoid()\n",
        "\n",
        "     def forward(self, x):\n",
        "         ret = self.sigmoid(self.linear(x))\n",
        "         return ret"
      ],
      "execution_count": 92,
      "outputs": []
    },
    {
      "cell_type": "code",
      "metadata": {
        "id": "kd8ynJHAL_bs"
      },
      "source": [
        "model2 = BinaryClassifier()"
      ],
      "execution_count": 93,
      "outputs": []
    },
    {
      "cell_type": "code",
      "metadata": {
        "id": "mG4HlnTuMzS5"
      },
      "source": [
        "optimizer = optim.Adam(model2.parameters(),lr=0.01)"
      ],
      "execution_count": 95,
      "outputs": []
    },
    {
      "cell_type": "code",
      "metadata": {
        "colab": {
          "base_uri": "https://localhost:8080/"
        },
        "id": "rFb9Fvq3MO2M",
        "outputId": "730b2938-18a4-4497-8c11-155a8c25dd39"
      },
      "source": [
        "for epoch in tqdm(range(1000)):\n",
        "    optimizer.zero_grad()\n",
        "    logits = model2(x_train)\n",
        "    loss = F.binary_cross_entropy(logits, y_train)\n",
        "\n",
        "    loss.backward()\n",
        "    optimizer.step()\n",
        "\n",
        "    if epoch % 100==0:\n",
        "        print(f'epoch:{epoch}, loss: {loss.item()}')"
      ],
      "execution_count": 99,
      "outputs": [
        {
          "output_type": "stream",
          "text": [
            " 57%|█████▋    | 567/1000 [00:00<00:00, 2758.47it/s]"
          ],
          "name": "stderr"
        },
        {
          "output_type": "stream",
          "text": [
            "epoch:0, loss: 0.026065044105052948\n",
            "epoch:100, loss: 0.024472856894135475\n",
            "epoch:200, loss: 0.02299751155078411\n",
            "epoch:300, loss: 0.021628396585583687\n",
            "epoch:400, loss: 0.020356101915240288\n",
            "epoch:500, loss: 0.01917225308716297\n"
          ],
          "name": "stdout"
        },
        {
          "output_type": "stream",
          "text": [
            "100%|██████████| 1000/1000 [00:00<00:00, 2816.20it/s]"
          ],
          "name": "stderr"
        },
        {
          "output_type": "stream",
          "text": [
            "epoch:600, loss: 0.018069244921207428\n",
            "epoch:700, loss: 0.017040394246578217\n",
            "epoch:800, loss: 0.016079626977443695\n",
            "epoch:900, loss: 0.015181489288806915\n"
          ],
          "name": "stdout"
        },
        {
          "output_type": "stream",
          "text": [
            "\n"
          ],
          "name": "stderr"
        }
      ]
    },
    {
      "cell_type": "code",
      "metadata": {
        "id": "1CYnNg4QM36q"
      },
      "source": [
        "hypothesis2 = model2(x_train)"
      ],
      "execution_count": 102,
      "outputs": []
    },
    {
      "cell_type": "code",
      "metadata": {
        "colab": {
          "base_uri": "https://localhost:8080/"
        },
        "id": "3_x6Ke_jM8e8",
        "outputId": "a0ca6d08-e1a4-41d9-cfe1-4f356d15b4c3"
      },
      "source": [
        "prediction = hypothesis2 >= torch.Tensor([0.5])\n",
        "prediction"
      ],
      "execution_count": 103,
      "outputs": [
        {
          "output_type": "execute_result",
          "data": {
            "text/plain": [
              "tensor([[False],\n",
              "        [False],\n",
              "        [False],\n",
              "        [ True],\n",
              "        [ True],\n",
              "        [ True]])"
            ]
          },
          "metadata": {
            "tags": []
          },
          "execution_count": 103
        }
      ]
    },
    {
      "cell_type": "code",
      "metadata": {
        "colab": {
          "base_uri": "https://localhost:8080/"
        },
        "id": "ew0fxf_CN4QQ",
        "outputId": "d8f7bf2c-5510-40b5-f50f-fae304798c15"
      },
      "source": [
        "torch.mean((y_train==prediction).float())"
      ],
      "execution_count": 104,
      "outputs": [
        {
          "output_type": "execute_result",
          "data": {
            "text/plain": [
              "tensor(1.)"
            ]
          },
          "metadata": {
            "tags": []
          },
          "execution_count": 104
        }
      ]
    }
  ]
}