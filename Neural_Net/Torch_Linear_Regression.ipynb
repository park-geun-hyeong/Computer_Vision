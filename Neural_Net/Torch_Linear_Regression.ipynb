{
  "nbformat": 4,
  "nbformat_minor": 0,
  "metadata": {
    "colab": {
      "name": "Torch_Linear_Regression.ipynb",
      "provenance": [],
      "collapsed_sections": [],
      "authorship_tag": "ABX9TyPW0WAbVq0HpVe/srwFji0M",
      "include_colab_link": true
    },
    "kernelspec": {
      "name": "python3",
      "display_name": "Python 3"
    },
    "language_info": {
      "name": "python"
    }
  },
  "cells": [
    {
      "cell_type": "markdown",
      "metadata": {
        "id": "view-in-github",
        "colab_type": "text"
      },
      "source": [
        "<a href=\"https://colab.research.google.com/github/park-geun-hyeong/practice_pytorch/blob/main/Torch_Linear_Regression.ipynb\" target=\"_parent\"><img src=\"https://colab.research.google.com/assets/colab-badge.svg\" alt=\"Open In Colab\"/></a>"
      ]
    },
    {
      "cell_type": "code",
      "metadata": {
        "id": "BiMsctPTy12o"
      },
      "source": [
        "import numpy as np\n",
        "import pandas as pd\n",
        "import matplotlib.pyplot as plt\n",
        "\n",
        "import torch\n",
        "import torch.nn as nn\n",
        "import torch.optim as optim\n",
        "import torch.nn.init as init"
      ],
      "execution_count": 3,
      "outputs": []
    },
    {
      "cell_type": "code",
      "metadata": {
        "id": "ZtxNO1kxy-gM"
      },
      "source": [
        "model = nn.Linear(1,1) "
      ],
      "execution_count": 4,
      "outputs": []
    },
    {
      "cell_type": "code",
      "metadata": {
        "id": "AEpBI7IW0C5S"
      },
      "source": [
        "loss_fn = nn.L1Loss() ## L1 \n",
        "optimizer = optim.SGD(model.parameters(), lr=0.001) ## SGD\n",
        "epochs=100"
      ],
      "execution_count": 30,
      "outputs": []
    },
    {
      "cell_type": "code",
      "metadata": {
        "id": "37UIKglB1V04"
      },
      "source": [
        "num_data=100\n",
        "\n",
        "x = init.uniform_(torch.Tensor(num_data,1),-10,10)\n",
        "y = 2*x+3 \n",
        "\n",
        "noise = init.normal_(torch.FloatTensor(num_data, 1),std=1)\n",
        "\n",
        "y_noise = y+noise"
      ],
      "execution_count": 58,
      "outputs": []
    },
    {
      "cell_type": "code",
      "metadata": {
        "colab": {
          "base_uri": "https://localhost:8080/",
          "height": 282
        },
        "id": "6vRvNsKY0YJe",
        "outputId": "c5cf14ae-7124-4906-9b3e-4e7f8e2bef03"
      },
      "source": [
        "%matplotlib inline\n",
        "plt.scatter(x,y_noise)"
      ],
      "execution_count": 68,
      "outputs": [
        {
          "output_type": "execute_result",
          "data": {
            "text/plain": [
              "<matplotlib.collections.PathCollection at 0x7f2820cabf50>"
            ]
          },
          "metadata": {
            "tags": []
          },
          "execution_count": 68
        },
        {
          "output_type": "display_data",
          "data": {
            "image/png": "[encoded data removed]",
            "text/plain": [
              "<Figure size 432x288 with 1 Axes>"
            ]
          },
          "metadata": {
            "tags": [],
            "needs_background": "light"
          }
        }
      ]
    },
    {
      "cell_type": "code",
      "metadata": {
        "colab": {
          "base_uri": "https://localhost:8080/"
        },
        "id": "VZTNIpyY1qRB",
        "outputId": "9ee792ce-925d-4cea-fef0-45a71ef914e3"
      },
      "source": [
        "epochs=500\n",
        "losses=[]\n",
        "\n",
        "for i in tqdm(range(epochs)):\n",
        "\n",
        "    optimizer.zero_grad()\n",
        "\n",
        "    pred = model(x)\n",
        "    loss = loss_fn(pred, y_noise) \n",
        "    loss.backward()\n",
        "    optimizer.step()\n",
        "\n",
        "    if (i+1) % 50 == 0:\n",
        "        print('{}epoch data: '.format(i+1),loss.data)\n",
        "        losses.append(loss.data)"
      ],
      "execution_count": 69,
      "outputs": [
        {
          "output_type": "stream",
          "text": [
            "100%|██████████| 500/500 [00:00<00:00, 2648.16it/s]"
          ],
          "name": "stderr"
        },
        {
          "output_type": "stream",
          "text": [
            "50epoch data:  tensor(1.4726)\n",
            "100epoch data:  tensor(1.4433)\n",
            "150epoch data:  tensor(1.4150)\n",
            "200epoch data:  tensor(1.3889)\n",
            "250epoch data:  tensor(1.3628)\n",
            "300epoch data:  tensor(1.3367)\n",
            "350epoch data:  tensor(1.3106)\n",
            "400epoch data:  tensor(1.2858)\n",
            "450epoch data:  tensor(1.2638)\n",
            "500epoch data:  tensor(1.2422)\n"
          ],
          "name": "stdout"
        },
        {
          "output_type": "stream",
          "text": [
            "\n"
          ],
          "name": "stderr"
        }
      ]
    },
    {
      "cell_type": "code",
      "metadata": {
        "id": "MlwBsKJM3UuO"
      },
      "source": [
        "loss_list = np.array(losses)"
      ],
      "execution_count": 70,
      "outputs": []
    },
    {
      "cell_type": "code",
      "metadata": {
        "colab": {
          "base_uri": "https://localhost:8080/",
          "height": 390
        },
        "id": "bWn7yWPZ3Xpz",
        "outputId": "50bedbd3-3369-488b-817c-01d89104a05e"
      },
      "source": [
        "plt.figure(figsize=(6,6))\n",
        "plt.title(\"LOSS\")\n",
        "plt.scatter(range(len(loss_list)), loss_list)\n",
        "plt.show()\n"
      ],
      "execution_count": 72,
      "outputs": [
        {
          "output_type": "display_data",
          "data": {
            "image/png": "[encoded data removed]",
            "text/plain": [
              "<Figure size 432x432 with 1 Axes>"
            ]
          },
          "metadata": {
            "tags": [],
            "needs_background": "light"
          }
        }
      ]
    },
    {
      "cell_type": "code",
      "metadata": {
        "id": "grHv452n6VNG"
      },
      "source": [
        "param_list = list(model.parameters())"
      ],
      "execution_count": 73,
      "outputs": []
    },
    {
      "cell_type": "code",
      "metadata": {
        "colab": {
          "base_uri": "https://localhost:8080/"
        },
        "id": "0Qdj1-6D7HrO",
        "outputId": "1fca3ffb-f3ae-4e62-e01b-ef73f9c51813"
      },
      "source": [
        "print(param_list[0].item(), param_list[1].item())"
      ],
      "execution_count": 74,
      "outputs": [
        {
          "output_type": "stream",
          "text": [
            "1.984357237815857 1.9853354692459106\n"
          ],
          "name": "stdout"
        }
      ]
    },
    {
      "cell_type": "code",
      "metadata": {
        "id": "-lQf1kp78yZt"
      },
      "source": [
        "pred = np.array(pred.detach())"
      ],
      "execution_count": 87,
      "outputs": []
    },
    {
      "cell_type": "code",
      "metadata": {
        "colab": {
          "base_uri": "https://localhost:8080/",
          "height": 483
        },
        "id": "POYcU6Z482tP",
        "outputId": "33c38555-c430-4668-e5e4-05d8cbe12fbc"
      },
      "source": [
        "plt.figure(figsize=(8,8))\n",
        "plt.scatter(x,pred)\n",
        "plt.scatter(x,y_noise)\n",
        "plt.legend(['pred','real'], loc='upper left')\n",
        "plt.show()"
      ],
      "execution_count": 92,
      "outputs": [
        {
          "output_type": "display_data",
          "data": {
            "image/png": "[encoded data removed]",
            "text/plain": [
              "<Figure size 576x576 with 1 Axes>"
            ]
          },
          "metadata": {
            "tags": [],
            "needs_background": "light"
          }
        }
      ]
    }
  ]
}