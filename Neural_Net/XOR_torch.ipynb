{
  "nbformat": 4,
  "nbformat_minor": 0,
  "metadata": {
    "colab": {
      "name": "XOR_torch.ipynb",
      "provenance": [],
      "collapsed_sections": [],
      "authorship_tag": "ABX9TyPaEdqWczB6jmnCwsZ42pa+",
      "include_colab_link": true
    },
    "kernelspec": {
      "name": "python3",
      "display_name": "Python 3"
    },
    "language_info": {
      "name": "python"
    }
  },
  "cells": [
    {
      "cell_type": "markdown",
      "metadata": {
        "id": "view-in-github",
        "colab_type": "text"
      },
      "source": [
        "<a href=\"https://colab.research.google.com/github/park-geun-hyeong/practice_pytorch/blob/main/XOR_torch.ipynb\" target=\"_parent\"><img src=\"https://colab.research.google.com/assets/colab-badge.svg\" alt=\"Open In Colab\"/></a>"
      ]
    },
    {
      "cell_type": "code",
      "metadata": {
        "id": "MP61bsFhD36V"
      },
      "source": [
        "import numpy as np\n",
        "import pandas as pd \n",
        "import random\n",
        "\n",
        "import torch\n",
        "import torch.nn as nn\n",
        "import torch.optim as optim\n",
        "import torch.nn.init as init"
      ],
      "execution_count": 38,
      "outputs": []
    },
    {
      "cell_type": "code",
      "metadata": {
        "id": "tAL0Sz8XEin9"
      },
      "source": [
        "data=[\n",
        "      [[0,0],[0]],\n",
        "      [[0,1],[1]],\n",
        "      [[1,0],[1]],\n",
        "      [[1,1],[0]]\n",
        "\n",
        "]"
      ],
      "execution_count": 4,
      "outputs": []
    },
    {
      "cell_type": "code",
      "metadata": {
        "id": "bAg4uhzHFU1X"
      },
      "source": [
        "X = [x[0] for x in data]\n",
        "y = [x[1] for x in data]"
      ],
      "execution_count": 11,
      "outputs": []
    },
    {
      "cell_type": "code",
      "metadata": {
        "colab": {
          "base_uri": "https://localhost:8080/"
        },
        "id": "1ipem2VWFcsJ",
        "outputId": "2d3c23e3-c018-4014-a13e-8d9a4f305449"
      },
      "source": [
        "X"
      ],
      "execution_count": 12,
      "outputs": [
        {
          "output_type": "execute_result",
          "data": {
            "text/plain": [
              "[[0, 0], [0, 1], [1, 0], [1, 1]]"
            ]
          },
          "metadata": {
            "tags": []
          },
          "execution_count": 12
        }
      ]
    },
    {
      "cell_type": "code",
      "metadata": {
        "colab": {
          "base_uri": "https://localhost:8080/"
        },
        "id": "_j99NbAnFdPA",
        "outputId": "91df8949-cd78-4615-8781-9a92b5774c31"
      },
      "source": [
        "y"
      ],
      "execution_count": 13,
      "outputs": [
        {
          "output_type": "execute_result",
          "data": {
            "text/plain": [
              "[[0], [1], [1], [0]]"
            ]
          },
          "metadata": {
            "tags": []
          },
          "execution_count": 13
        }
      ]
    },
    {
      "cell_type": "code",
      "metadata": {
        "id": "E-OtTIZeFhBT"
      },
      "source": [
        "model = nn.Sequential(\n",
        "    nn.Linear(2,5),\n",
        "    nn.Tanh(),\n",
        "    nn.Linear(5,1),\n",
        "    nn.Sigmoid()\n",
        "\n",
        ")"
      ],
      "execution_count": 15,
      "outputs": []
    },
    {
      "cell_type": "code",
      "metadata": {
        "id": "Y41ywbdvHO-O"
      },
      "source": [
        "x_tensor = torch.tensor(X).float()\n",
        "y_tensor = torch.tensor(y).float()"
      ],
      "execution_count": 19,
      "outputs": []
    },
    {
      "cell_type": "code",
      "metadata": {
        "colab": {
          "base_uri": "https://localhost:8080/"
        },
        "id": "mxWjgu3NHv42",
        "outputId": "6e24eac5-5812-46b9-add4-479d36a4e665"
      },
      "source": [
        "x_tensor.shape,y_tensor.shape"
      ],
      "execution_count": 23,
      "outputs": [
        {
          "output_type": "execute_result",
          "data": {
            "text/plain": [
              "(torch.Size([4, 2]), torch.Size([4, 1]))"
            ]
          },
          "metadata": {
            "tags": []
          },
          "execution_count": 23
        }
      ]
    },
    {
      "cell_type": "code",
      "metadata": {
        "id": "Ygd_mINuHxaR"
      },
      "source": [
        "loss_fn = nn.BCELoss()\n",
        "optimizer = optim.Adam(model.parameters(),lr=0.1)"
      ],
      "execution_count": 39,
      "outputs": []
    },
    {
      "cell_type": "code",
      "metadata": {
        "colab": {
          "base_uri": "https://localhost:8080/"
        },
        "id": "kYAiev-1IhNb",
        "outputId": "8eb24bde-77e0-450f-cfcd-71e33f35cc7d"
      },
      "source": [
        "for epoch in range(1000):\n",
        "    optimizer.zero_grad()\n",
        "\n",
        "    cost = model(x_tensor)\n",
        "    loss = loss_fn(cost, y_tensor)\n",
        "    loss.backward()\n",
        "    optimizer.step()\n",
        "\n",
        "    if epoch%100==0:\n",
        "        print(f\"epoch:{epoch+1}, loss:{loss.item():.2f}, output:{cost}\")\n"
      ],
      "execution_count": 41,
      "outputs": [
        {
          "output_type": "stream",
          "text": [
            "epoch:1, loss:0.00, output:tensor([[1.0955e-04],\n",
            "        [9.9995e-01],\n",
            "        [9.9993e-01],\n",
            "        [2.3199e-05]], grad_fn=<SigmoidBackward>)\n",
            "epoch:101, loss:0.00, output:tensor([[9.4094e-05],\n",
            "        [9.9996e-01],\n",
            "        [9.9994e-01],\n",
            "        [1.9526e-05]], grad_fn=<SigmoidBackward>)\n",
            "epoch:201, loss:0.00, output:tensor([[8.1699e-05],\n",
            "        [9.9996e-01],\n",
            "        [9.9995e-01],\n",
            "        [1.6646e-05]], grad_fn=<SigmoidBackward>)\n",
            "epoch:301, loss:0.00, output:tensor([[7.1586e-05],\n",
            "        [9.9997e-01],\n",
            "        [9.9995e-01],\n",
            "        [1.4346e-05]], grad_fn=<SigmoidBackward>)\n",
            "epoch:401, loss:0.00, output:tensor([[6.3218e-05],\n",
            "        [9.9997e-01],\n",
            "        [9.9996e-01],\n",
            "        [1.2479e-05]], grad_fn=<SigmoidBackward>)\n",
            "epoch:501, loss:0.00, output:tensor([[5.6205e-05],\n",
            "        [9.9998e-01],\n",
            "        [9.9996e-01],\n",
            "        [1.0940e-05]], grad_fn=<SigmoidBackward>)\n",
            "epoch:601, loss:0.00, output:tensor([[5.0269e-05],\n",
            "        [9.9998e-01],\n",
            "        [9.9997e-01],\n",
            "        [9.6591e-06]], grad_fn=<SigmoidBackward>)\n",
            "epoch:701, loss:0.00, output:tensor([[4.5191e-05],\n",
            "        [9.9998e-01],\n",
            "        [9.9997e-01],\n",
            "        [8.5793e-06]], grad_fn=<SigmoidBackward>)\n",
            "epoch:801, loss:0.00, output:tensor([[4.0813e-05],\n",
            "        [9.9998e-01],\n",
            "        [9.9997e-01],\n",
            "        [7.6612e-06]], grad_fn=<SigmoidBackward>)\n",
            "epoch:901, loss:0.00, output:tensor([[3.7010e-05],\n",
            "        [9.9998e-01],\n",
            "        [9.9998e-01],\n",
            "        [6.8740e-06]], grad_fn=<SigmoidBackward>)\n"
          ],
          "name": "stdout"
        }
      ]
    },
    {
      "cell_type": "code",
      "metadata": {
        "colab": {
          "base_uri": "https://localhost:8080/"
        },
        "id": "TGjWX3ydIu98",
        "outputId": "f313c38d-6cae-46d4-ec2c-110a760ceb10"
      },
      "source": [
        "print(f\"pred:{torch.round(cost).int().flatten()}, True:{y_tensor.int().flatten()}\")"
      ],
      "execution_count": 51,
      "outputs": [
        {
          "output_type": "stream",
          "text": [
            "pred:tensor([0, 1, 1, 0], dtype=torch.int32), True:tensor([0, 1, 1, 0], dtype=torch.int32)\n"
          ],
          "name": "stdout"
        }
      ]
    },
    {
      "cell_type": "code",
      "metadata": {
        "id": "u8ZXUAxdK_ln"
      },
      "source": [
        ""
      ],
      "execution_count": null,
      "outputs": []
    }
  ]
}