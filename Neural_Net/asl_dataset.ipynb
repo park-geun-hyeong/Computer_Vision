{
  "nbformat": 4,
  "nbformat_minor": 0,
  "metadata": {
    "colab": {
      "name": "HW2_201716175.ipynb",
      "provenance": [],
      "collapsed_sections": [],
      "authorship_tag": "ABX9TyMZ7TuminmXPHTQkNbLJPqM",
      "include_colab_link": true
    },
    "kernelspec": {
      "name": "python3",
      "display_name": "Python 3"
    },
    "language_info": {
      "name": "python"
    },
    "widgets": {
      "application/vnd.jupyter.widget-state+json": {
        "28052ca59920480fbfbfdc89a437582c": {
          "model_module": "@jupyter-widgets/controls",
          "model_name": "HBoxModel",
          "model_module_version": "1.5.0",
          "state": {
            "_view_name": "HBoxView",
            "_dom_classes": [],
            "_model_name": "HBoxModel",
            "_view_module": "@jupyter-widgets/controls",
            "_model_module_version": "1.5.0",
            "_view_count": null,
            "_view_module_version": "1.5.0",
            "box_style": "",
            "layout": "IPY_MODEL_42a3b4c634e84d108cf2468c7f061b0c",
            "_model_module": "@jupyter-widgets/controls",
            "children": [
              "IPY_MODEL_5f732184e6924d399c8ef3c68ca1714f",
              "IPY_MODEL_df474a00933b477483b420c12fe0e7e8",
              "IPY_MODEL_b70b76ed5cfc4866bb5f245425a0d265"
            ]
          }
        },
        "42a3b4c634e84d108cf2468c7f061b0c": {
          "model_module": "@jupyter-widgets/base",
          "model_name": "LayoutModel",
          "model_module_version": "1.2.0",
          "state": {
            "_view_name": "LayoutView",
            "grid_template_rows": null,
            "right": null,
            "justify_content": null,
            "_view_module": "@jupyter-widgets/base",
            "overflow": null,
            "_model_module_version": "1.2.0",
            "_view_count": null,
            "flex_flow": null,
            "width": null,
            "min_width": null,
            "border": null,
            "align_items": null,
            "bottom": null,
            "_model_module": "@jupyter-widgets/base",
            "top": null,
            "grid_column": null,
            "overflow_y": null,
            "overflow_x": null,
            "grid_auto_flow": null,
            "grid_area": null,
            "grid_template_columns": null,
            "flex": null,
            "_model_name": "LayoutModel",
            "justify_items": null,
            "grid_row": null,
            "max_height": null,
            "align_content": null,
            "visibility": null,
            "align_self": null,
            "height": null,
            "min_height": null,
            "padding": null,
            "grid_auto_rows": null,
            "grid_gap": null,
            "max_width": null,
            "order": null,
            "_view_module_version": "1.2.0",
            "grid_template_areas": null,
            "object_position": null,
            "object_fit": null,
            "grid_auto_columns": null,
            "margin": null,
            "display": null,
            "left": null
          }
        },
        "5f732184e6924d399c8ef3c68ca1714f": {
          "model_module": "@jupyter-widgets/controls",
          "model_name": "HTMLModel",
          "model_module_version": "1.5.0",
          "state": {
            "_view_name": "HTMLView",
            "style": "IPY_MODEL_9eebe470956c4645a8df9c8953b4441f",
            "_dom_classes": [],
            "description": "",
            "_model_name": "HTMLModel",
            "placeholder": "​",
            "_view_module": "@jupyter-widgets/controls",
            "_model_module_version": "1.5.0",
            "value": "100%",
            "_view_count": null,
            "_view_module_version": "1.5.0",
            "description_tooltip": null,
            "_model_module": "@jupyter-widgets/controls",
            "layout": "IPY_MODEL_676184b7cc244b5c9aea358f5c810211"
          }
        },
        "df474a00933b477483b420c12fe0e7e8": {
          "model_module": "@jupyter-widgets/controls",
          "model_name": "FloatProgressModel",
          "model_module_version": "1.5.0",
          "state": {
            "_view_name": "ProgressView",
            "style": "IPY_MODEL_88aed62ea43346bbb23f83ad838b4ec0",
            "_dom_classes": [],
            "description": "",
            "_model_name": "FloatProgressModel",
            "bar_style": "success",
            "max": 50,
            "_view_module": "@jupyter-widgets/controls",
            "_model_module_version": "1.5.0",
            "value": 50,
            "_view_count": null,
            "_view_module_version": "1.5.0",
            "orientation": "horizontal",
            "min": 0,
            "description_tooltip": null,
            "_model_module": "@jupyter-widgets/controls",
            "layout": "IPY_MODEL_45ac919f686d49a28d294d9e88d2cbfa"
          }
        },
        "b70b76ed5cfc4866bb5f245425a0d265": {
          "model_module": "@jupyter-widgets/controls",
          "model_name": "HTMLModel",
          "model_module_version": "1.5.0",
          "state": {
            "_view_name": "HTMLView",
            "style": "IPY_MODEL_b438ebe2883e439bbce3bacbada81bd5",
            "_dom_classes": [],
            "description": "",
            "_model_name": "HTMLModel",
            "placeholder": "​",
            "_view_module": "@jupyter-widgets/controls",
            "_model_module_version": "1.5.0",
            "value": " 50/50 [08:14&lt;00:00,  9.91s/it]",
            "_view_count": null,
            "_view_module_version": "1.5.0",
            "description_tooltip": null,
            "_model_module": "@jupyter-widgets/controls",
            "layout": "IPY_MODEL_e7066ffc7c024cae83d0a6a0ae835e5d"
          }
        },
        "9eebe470956c4645a8df9c8953b4441f": {
          "model_module": "@jupyter-widgets/controls",
          "model_name": "DescriptionStyleModel",
          "model_module_version": "1.5.0",
          "state": {
            "_view_name": "StyleView",
            "_model_name": "DescriptionStyleModel",
            "description_width": "",
            "_view_module": "@jupyter-widgets/base",
            "_model_module_version": "1.5.0",
            "_view_count": null,
            "_view_module_version": "1.2.0",
            "_model_module": "@jupyter-widgets/controls"
          }
        },
        "676184b7cc244b5c9aea358f5c810211": {
          "model_module": "@jupyter-widgets/base",
          "model_name": "LayoutModel",
          "model_module_version": "1.2.0",
          "state": {
            "_view_name": "LayoutView",
            "grid_template_rows": null,
            "right": null,
            "justify_content": null,
            "_view_module": "@jupyter-widgets/base",
            "overflow": null,
            "_model_module_version": "1.2.0",
            "_view_count": null,
            "flex_flow": null,
            "width": null,
            "min_width": null,
            "border": null,
            "align_items": null,
            "bottom": null,
            "_model_module": "@jupyter-widgets/base",
            "top": null,
            "grid_column": null,
            "overflow_y": null,
            "overflow_x": null,
            "grid_auto_flow": null,
            "grid_area": null,
            "grid_template_columns": null,
            "flex": null,
            "_model_name": "LayoutModel",
            "justify_items": null,
            "grid_row": null,
            "max_height": null,
            "align_content": null,
            "visibility": null,
            "align_self": null,
            "height": null,
            "min_height": null,
            "padding": null,
            "grid_auto_rows": null,
            "grid_gap": null,
            "max_width": null,
            "order": null,
            "_view_module_version": "1.2.0",
            "grid_template_areas": null,
            "object_position": null,
            "object_fit": null,
            "grid_auto_columns": null,
            "margin": null,
            "display": null,
            "left": null
          }
        },
        "88aed62ea43346bbb23f83ad838b4ec0": {
          "model_module": "@jupyter-widgets/controls",
          "model_name": "ProgressStyleModel",
          "model_module_version": "1.5.0",
          "state": {
            "_view_name": "StyleView",
            "_model_name": "ProgressStyleModel",
            "description_width": "",
            "_view_module": "@jupyter-widgets/base",
            "_model_module_version": "1.5.0",
            "_view_count": null,
            "_view_module_version": "1.2.0",
            "bar_color": null,
            "_model_module": "@jupyter-widgets/controls"
          }
        },
        "45ac919f686d49a28d294d9e88d2cbfa": {
          "model_module": "@jupyter-widgets/base",
          "model_name": "LayoutModel",
          "model_module_version": "1.2.0",
          "state": {
            "_view_name": "LayoutView",
            "grid_template_rows": null,
            "right": null,
            "justify_content": null,
            "_view_module": "@jupyter-widgets/base",
            "overflow": null,
            "_model_module_version": "1.2.0",
            "_view_count": null,
            "flex_flow": null,
            "width": null,
            "min_width": null,
            "border": null,
            "align_items": null,
            "bottom": null,
            "_model_module": "@jupyter-widgets/base",
            "top": null,
            "grid_column": null,
            "overflow_y": null,
            "overflow_x": null,
            "grid_auto_flow": null,
            "grid_area": null,
            "grid_template_columns": null,
            "flex": null,
            "_model_name": "LayoutModel",
            "justify_items": null,
            "grid_row": null,
            "max_height": null,
            "align_content": null,
            "visibility": null,
            "align_self": null,
            "height": null,
            "min_height": null,
            "padding": null,
            "grid_auto_rows": null,
            "grid_gap": null,
            "max_width": null,
            "order": null,
            "_view_module_version": "1.2.0",
            "grid_template_areas": null,
            "object_position": null,
            "object_fit": null,
            "grid_auto_columns": null,
            "margin": null,
            "display": null,
            "left": null
          }
        },
        "b438ebe2883e439bbce3bacbada81bd5": {
          "model_module": "@jupyter-widgets/controls",
          "model_name": "DescriptionStyleModel",
          "model_module_version": "1.5.0",
          "state": {
            "_view_name": "StyleView",
            "_model_name": "DescriptionStyleModel",
            "description_width": "",
            "_view_module": "@jupyter-widgets/base",
            "_model_module_version": "1.5.0",
            "_view_count": null,
            "_view_module_version": "1.2.0",
            "_model_module": "@jupyter-widgets/controls"
          }
        },
        "e7066ffc7c024cae83d0a6a0ae835e5d": {
          "model_module": "@jupyter-widgets/base",
          "model_name": "LayoutModel",
          "model_module_version": "1.2.0",
          "state": {
            "_view_name": "LayoutView",
            "grid_template_rows": null,
            "right": null,
            "justify_content": null,
            "_view_module": "@jupyter-widgets/base",
            "overflow": null,
            "_model_module_version": "1.2.0",
            "_view_count": null,
            "flex_flow": null,
            "width": null,
            "min_width": null,
            "border": null,
            "align_items": null,
            "bottom": null,
            "_model_module": "@jupyter-widgets/base",
            "top": null,
            "grid_column": null,
            "overflow_y": null,
            "overflow_x": null,
            "grid_auto_flow": null,
            "grid_area": null,
            "grid_template_columns": null,
            "flex": null,
            "_model_name": "LayoutModel",
            "justify_items": null,
            "grid_row": null,
            "max_height": null,
            "align_content": null,
            "visibility": null,
            "align_self": null,
            "height": null,
            "min_height": null,
            "padding": null,
            "grid_auto_rows": null,
            "grid_gap": null,
            "max_width": null,
            "order": null,
            "_view_module_version": "1.2.0",
            "grid_template_areas": null,
            "object_position": null,
            "object_fit": null,
            "grid_auto_columns": null,
            "margin": null,
            "display": null,
            "left": null
          }
        }
      }
    }
  },
  "cells": [
    {
      "cell_type": "markdown",
      "metadata": {
        "id": "view-in-github",
        "colab_type": "text"
      },
      "source": [
        "<a href=\"https://colab.research.google.com/github/park-geun-hyeong/practice_pytorch/blob/main/asl_dataset.ipynb\" target=\"_parent\"><img src=\"https://colab.research.google.com/assets/colab-badge.svg\" alt=\"Open In Colab\"/></a>"
      ]
    },
    {
      "cell_type": "markdown",
      "metadata": {
        "id": "gDyGiALR2AO3"
      },
      "source": [
        "## LIbrary Import"
      ]
    },
    {
      "cell_type": "code",
      "metadata": {
        "id": "5uzOmi3YjlKX"
      },
      "source": [
        "import numpy as np\n",
        "import pandas as pd\n",
        "import matplotlib.pyplot as plt \n",
        "import os\n",
        "from tqdm import tqdm, tqdm_notebook\n",
        "import gc\n",
        "\n",
        "import torch\n",
        "import torch.nn as nn\n",
        "import torch.optim as optim\n",
        "from torch.utils.data import Dataset, DataLoader\n",
        "import warnings \n",
        "warnings.filterwarnings('ignore')"
      ],
      "execution_count": 112,
      "outputs": []
    },
    {
      "cell_type": "markdown",
      "metadata": {
        "id": "d66EoSHy2Fe6"
      },
      "source": [
        "## Data"
      ]
    },
    {
      "cell_type": "code",
      "metadata": {
        "id": "qxV6deH4jqyp"
      },
      "source": [
        "path = '/content/drive/MyDrive/PyTorch/homework/IT_HW2/'  "
      ],
      "execution_count": 9,
      "outputs": []
    },
    {
      "cell_type": "code",
      "metadata": {
        "id": "zTkZeUw6keiq"
      },
      "source": [
        "train = pd.read_csv(path + sorted(os.listdir(path))[1])\n",
        "val = pd.read_csv(path+ sorted(os.listdir(path))[2])  "
      ],
      "execution_count": 14,
      "outputs": []
    },
    {
      "cell_type": "code",
      "metadata": {
        "colab": {
          "base_uri": "https://localhost:8080/"
        },
        "id": "Q0LujR41krb8",
        "outputId": "c3cdd997-d0bb-45c7-8698-38d1286a4c7a"
      },
      "source": [
        "train.shape, val.shape"
      ],
      "execution_count": 124,
      "outputs": [
        {
          "output_type": "execute_result",
          "data": {
            "text/plain": [
              "((27455, 785), (7172, 785))"
            ]
          },
          "metadata": {},
          "execution_count": 124
        }
      ]
    },
    {
      "cell_type": "code",
      "metadata": {
        "colab": {
          "base_uri": "https://localhost:8080/",
          "height": 390
        },
        "id": "zy7dWpPRlLRF",
        "outputId": "f7c73dd6-1a73-49ec-bfff-7a672739a1df"
      },
      "source": [
        "idx = np.random.randint(train.shape[0])\n",
        "\n",
        "img = train.iloc[idx,1:].values.reshape(28,28).astype(np.uint8)\n",
        "plt.figure(figsize=(6,6))\n",
        "plt.imshow(img, cmap='gray')\n",
        "plt.title(f\"label : {train.iloc[idx,0]}\")\n",
        "plt.show()"
      ],
      "execution_count": 67,
      "outputs": [
        {
          "output_type": "display_data",
          "data": {
            "image/png": "[encoded data removed]",
            "text/plain": [
              "<Figure size 432x432 with 1 Axes>"
            ]
          },
          "metadata": {
            "needs_background": "light"
          }
        }
      ]
    },
    {
      "cell_type": "markdown",
      "metadata": {
        "id": "D1W7qNp42JyE"
      },
      "source": [
        "## DataSet, DataLoader"
      ]
    },
    {
      "cell_type": "code",
      "metadata": {
        "id": "luX9sEWwlsAA"
      },
      "source": [
        "class asl_dataset(Dataset):\n",
        "    def __init__(self, df):\n",
        "        super(asl_dataset,self).__init__()\n",
        "        self.df = df\n",
        "\n",
        "    def __len__(self):\n",
        "        return self.df.shape[0]\n",
        "\n",
        "    def __getitem__(self, idx: int):\n",
        "        img = self.df.iloc[idx,1:].values.astype(np.uint8) / 255.\n",
        "        label = int(self.df.label[idx])\n",
        "\n",
        "        img_tensor = torch.tensor(img).float()\n",
        "        label_tensor = torch.tensor(label)\n",
        "\n",
        "        return img_tensor, label_tensor\n"
      ],
      "execution_count": 109,
      "outputs": []
    },
    {
      "cell_type": "code",
      "metadata": {
        "id": "o-vxjjImm1lB"
      },
      "source": [
        "train_dataset = asl_dataset(train)\n",
        "train_loader = DataLoader(train_dataset, batch_size=128, shuffle=True)"
      ],
      "execution_count": 110,
      "outputs": []
    },
    {
      "cell_type": "markdown",
      "metadata": {
        "id": "943SEipLBW-U"
      },
      "source": [
        "## Model"
      ]
    },
    {
      "cell_type": "code",
      "metadata": {
        "id": "7M4b9v4foiGB"
      },
      "source": [
        "class Net(nn.Module):\n",
        "\n",
        "    def __init__(self):\n",
        "        super(Net, self).__init__()\n",
        "        self.fc1 = nn.Linear(784, 256)\n",
        "        self.fc2 = nn.Linear(256,64)\n",
        "        self.fc3 = nn.Linear(64,24)\n",
        "        self.relu = nn.ReLU()\n",
        "\n",
        "    def forward(self, x):\n",
        "        x = self.fc1(x)\n",
        "        x = self.relu(x)\n",
        "        x = self.fc2(x)\n",
        "        x = self.relu(x)\n",
        "        x = self.fc3(x)\n",
        "\n",
        "        return x"
      ],
      "execution_count": 105,
      "outputs": []
    },
    {
      "cell_type": "code",
      "metadata": {
        "id": "eUuDX3mZsCeP"
      },
      "source": [
        "model = Net()\n",
        "optimizer = optim.Adam(model.parameters(), lr= 1e-3)\n",
        "loss_fn = nn.CrossEntropyLoss() \n"
      ],
      "execution_count": 106,
      "outputs": []
    },
    {
      "cell_type": "markdown",
      "metadata": {
        "id": "eLq4B871BZIB"
      },
      "source": [
        "## Train"
      ]
    },
    {
      "cell_type": "code",
      "metadata": {
        "colab": {
          "base_uri": "https://localhost:8080/",
          "height": 929,
          "referenced_widgets": [
            "28052ca59920480fbfbfdc89a437582c",
            "42a3b4c634e84d108cf2468c7f061b0c",
            "5f732184e6924d399c8ef3c68ca1714f",
            "df474a00933b477483b420c12fe0e7e8",
            "b70b76ed5cfc4866bb5f245425a0d265",
            "9eebe470956c4645a8df9c8953b4441f",
            "676184b7cc244b5c9aea358f5c810211",
            "88aed62ea43346bbb23f83ad838b4ec0",
            "45ac919f686d49a28d294d9e88d2cbfa",
            "b438ebe2883e439bbce3bacbada81bd5",
            "e7066ffc7c024cae83d0a6a0ae835e5d"
          ]
        },
        "id": "WXZmJxQOsEg9",
        "outputId": "87959a2d-7758-4036-899a-88a6154b9e18"
      },
      "source": [
        "epoch = 50\n",
        "\n",
        "for i in tqdm_notebook(range(epoch)):\n",
        "\n",
        "    train_loss = []\n",
        "    for input, label in train_loader:\n",
        "    \n",
        "        optimizer.zero_grad()\n",
        "        cost = model(input)\n",
        "\n",
        "        loss = loss_fn(cost, label)\n",
        "        loss.backward()\n",
        "        optimizer.step()\n",
        "\n",
        "        train_loss.append(loss.item())\n",
        "\n",
        "    print(f\"epoch: {i+1}, loss: {np.mean(train_loss):.4f}\")\n"
      ],
      "execution_count": 107,
      "outputs": [
        {
          "output_type": "display_data",
          "data": {
            "application/vnd.jupyter.widget-view+json": {
              "model_id": "28052ca59920480fbfbfdc89a437582c",
              "version_minor": 0,
              "version_major": 2
            },
            "text/plain": [
              "  0%|          | 0/50 [00:00<?, ?it/s]"
            ]
          },
          "metadata": {}
        },
        {
          "output_type": "stream",
          "name": "stdout",
          "text": [
            "epoch: 1, loss: 2.5607\n",
            "epoch: 2, loss: 1.6547\n",
            "epoch: 3, loss: 1.3059\n",
            "epoch: 4, loss: 1.0612\n",
            "epoch: 5, loss: 0.8832\n",
            "epoch: 6, loss: 0.7646\n",
            "epoch: 7, loss: 0.6425\n",
            "epoch: 8, loss: 0.5413\n",
            "epoch: 9, loss: 0.4719\n",
            "epoch: 10, loss: 0.3886\n",
            "epoch: 11, loss: 0.3264\n",
            "epoch: 12, loss: 0.2703\n",
            "epoch: 13, loss: 0.2343\n",
            "epoch: 14, loss: 0.1882\n",
            "epoch: 15, loss: 0.1700\n",
            "epoch: 16, loss: 0.1284\n",
            "epoch: 17, loss: 0.1018\n",
            "epoch: 18, loss: 0.1017\n",
            "epoch: 19, loss: 0.0782\n",
            "epoch: 20, loss: 0.0680\n",
            "epoch: 21, loss: 0.0542\n",
            "epoch: 22, loss: 0.0479\n",
            "epoch: 23, loss: 0.0563\n",
            "epoch: 24, loss: 0.0289\n",
            "epoch: 25, loss: 0.0261\n",
            "epoch: 26, loss: 0.0256\n",
            "epoch: 27, loss: 0.0229\n",
            "epoch: 28, loss: 0.0184\n",
            "epoch: 29, loss: 0.0207\n",
            "epoch: 30, loss: 0.0892\n",
            "epoch: 31, loss: 0.0091\n",
            "epoch: 32, loss: 0.0078\n",
            "epoch: 33, loss: 0.0072\n",
            "epoch: 34, loss: 0.0072\n",
            "epoch: 35, loss: 0.0064\n",
            "epoch: 36, loss: 0.0565\n",
            "epoch: 37, loss: 0.0265\n",
            "epoch: 38, loss: 0.0044\n",
            "epoch: 39, loss: 0.0041\n",
            "epoch: 40, loss: 0.0035\n",
            "epoch: 41, loss: 0.0087\n",
            "epoch: 42, loss: 0.0291\n",
            "epoch: 43, loss: 0.0032\n",
            "epoch: 44, loss: 0.0029\n",
            "epoch: 45, loss: 0.0024\n",
            "epoch: 46, loss: 0.0023\n",
            "epoch: 47, loss: 0.0024\n",
            "epoch: 48, loss: 0.1124\n",
            "epoch: 49, loss: 0.0027\n",
            "epoch: 50, loss: 0.0023\n"
          ]
        }
      ]
    },
    {
      "cell_type": "markdown",
      "metadata": {
        "id": "rgYkU1iyBbSL"
      },
      "source": [
        "## Test"
      ]
    },
    {
      "cell_type": "code",
      "metadata": {
        "colab": {
          "base_uri": "https://localhost:8080/"
        },
        "id": "mmTRopZltUlK",
        "outputId": "ab1294b6-ae32-4398-d672-e472486b3288"
      },
      "source": [
        "val_x_tensor = torch.tensor(val.iloc[:,1:].values.astype(np.uint8) / 255.).float()\n",
        "val_y_tensor = torch.tensor(val.label.values)\n",
        "pred = model(val_x_tensor)\n",
        "ans = torch.argmax(pred, axis = 1)\n",
        "\n",
        "acc = torch.mean((ans==val_y_tensor).float())\n",
        "print(f\"acc: {acc:.4f}\")\n"
      ],
      "execution_count": 123,
      "outputs": [
        {
          "output_type": "stream",
          "name": "stdout",
          "text": [
            "acc: 0.7390\n"
          ]
        }
      ]
    }
  ]
}