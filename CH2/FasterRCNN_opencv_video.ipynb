{
  "nbformat": 4,
  "nbformat_minor": 0,
  "metadata": {
    "colab": {
      "name": "FasterRCNN_opencv_video.ipynb",
      "provenance": [],
      "collapsed_sections": [],
      "toc_visible": true,
      "mount_file_id": "1B6iC3pK0TJWhmbNYXJDa1Qoutb_T08ei",
      "authorship_tag": "ABX9TyPpOQS1k7kmYnZWX0BsfVEb",
      "include_colab_link": true
    },
    "kernelspec": {
      "name": "python3",
      "display_name": "Python 3"
    }
  },
  "cells": [
    {
      "cell_type": "markdown",
      "metadata": {
        "id": "view-in-github",
        "colab_type": "text"
      },
      "source": [
        "<a href=\"https://colab.research.google.com/github/park-geun-hyeong/Computer_Vision/blob/main/CH2/FasterRCNN_opencv_video.ipynb\" target=\"_parent\"><img src=\"https://colab.research.google.com/assets/colab-badge.svg\" alt=\"Open In Colab\"/></a>"
      ]
    },
    {
      "cell_type": "markdown",
      "metadata": {
        "id": "ObL5O5UXpGR9"
      },
      "source": [
        "##Git Clone\r\n"
      ]
    },
    {
      "cell_type": "code",
      "metadata": {
        "id": "-5XcjEYWpRhM",
        "colab": {
          "base_uri": "https://localhost:8080/"
        },
        "outputId": "8f7dc2d4-0cb3-4bab-c709-8b197788d417"
      },
      "source": [
        "!git clone https://github.com/chulminkw/DLCV.git"
      ],
      "execution_count": 1,
      "outputs": [
        {
          "output_type": "stream",
          "text": [
            "Cloning into 'DLCV'...\n",
            "remote: Enumerating objects: 75, done.\u001b[K\n",
            "remote: Counting objects: 100% (75/75), done.\u001b[K\n",
            "remote: Compressing objects: 100% (71/71), done.\u001b[K\n",
            "remote: Total 234 (delta 32), reused 0 (delta 0), pack-reused 159\u001b[K\n",
            "Receiving objects: 100% (234/234), 142.72 MiB | 35.00 MiB/s, done.\n",
            "Resolving deltas: 100% (89/89), done.\n"
          ],
          "name": "stdout"
        }
      ]
    },
    {
      "cell_type": "markdown",
      "metadata": {
        "id": "UFCHWV0QpU03"
      },
      "source": [
        "##Library Import"
      ]
    },
    {
      "cell_type": "code",
      "metadata": {
        "id": "dlPZBIjkpZXk"
      },
      "source": [
        "import numpy as np\r\n",
        "import pandas as pd\r\n",
        "import matplotlib.pyplot as plt\r\n",
        "import seaborn as sns\r\n",
        "%matplotlib inline \r\n",
        "\r\n",
        "import os\r\n",
        "import cv2\r\n",
        "from PIL import Image\r\n",
        "from tqdm import tqdm"
      ],
      "execution_count": 2,
      "outputs": []
    },
    {
      "cell_type": "code",
      "metadata": {
        "id": "NHgCiqxBpaAG"
      },
      "source": [
        "path = '/content/DLCV/data/' #img directory 설정\r\n",
        "video_path = path+'video/John_Wick_small.mp4'"
      ],
      "execution_count": 3,
      "outputs": []
    },
    {
      "cell_type": "code",
      "metadata": {
        "colab": {
          "base_uri": "https://localhost:8080/",
          "height": 35
        },
        "id": "FeDegeAjpqNN",
        "outputId": "ffa18b8f-6171-4682-ccbe-f2bb520c956a"
      },
      "source": [
        "os.mkdir('/content/DLCV/faster_RCNN') # make new directory\r\n",
        "os.chdir('/content/DLCV/faster_RCNN') # change home directory for data download \r\n",
        "os.getcwd()"
      ],
      "execution_count": 4,
      "outputs": [
        {
          "output_type": "execute_result",
          "data": {
            "application/vnd.google.colaboratory.intrinsic+json": {
              "type": "string"
            },
            "text/plain": [
              "'/content/DLCV/faster_RCNN'"
            ]
          },
          "metadata": {
            "tags": []
          },
          "execution_count": 4
        }
      ]
    },
    {
      "cell_type": "markdown",
      "metadata": {
        "id": "082jdLzMpxED"
      },
      "source": [
        "## Pre_trained Model download(Resnet 50)"
      ]
    },
    {
      "cell_type": "code",
      "metadata": {
        "id": "fm_0T-hgp0pn"
      },
      "source": [
        "!wget http://download.tensorflow.org/models/object_detection/faster_rcnn_resnet50_coco_2018_01_28.tar.gz\r\n",
        "!wget https://raw.githubusercontent.com/opencv/opencv_extra/master/testdata/dnn/faster_rcnn_resnet50_coco_2018_01_28.pbtxt"
      ],
      "execution_count": null,
      "outputs": []
    },
    {
      "cell_type": "code",
      "metadata": {
        "id": "R3XXsS8yp22m"
      },
      "source": [
        "!echo \"##### uncompressing tar file\"\r\n",
        "!tar -xvf faster_rcnn*.gz ##tgr file zip out"
      ],
      "execution_count": null,
      "outputs": []
    },
    {
      "cell_type": "code",
      "metadata": {
        "id": "egmS8qUQp5Zf"
      },
      "source": [
        "!mv /content/DLCV/faster_RCNN/faster_rcnn*.pbtxt /content/DLCV/faster_RCNN/faster_rcnn_resnet50_coco_2018_01_28/graph.pbtxt #move file"
      ],
      "execution_count": 7,
      "outputs": []
    },
    {
      "cell_type": "code",
      "metadata": {
        "id": "VtC7uFMjp8fe"
      },
      "source": [
        "!rm *.gz #tgr file remove"
      ],
      "execution_count": 8,
      "outputs": []
    },
    {
      "cell_type": "code",
      "metadata": {
        "colab": {
          "base_uri": "https://localhost:8080/"
        },
        "id": "grSR9QUpp-ZR",
        "outputId": "897b4680-d7e2-4224-b395-50ee96f6f211"
      },
      "source": [
        "sorted(os.listdir('/content/DLCV/faster_RCNN/faster_rcnn_resnet50_coco_2018_01_28')) #directiory search"
      ],
      "execution_count": 9,
      "outputs": [
        {
          "output_type": "execute_result",
          "data": {
            "text/plain": [
              "['checkpoint',\n",
              " 'frozen_inference_graph.pb',\n",
              " 'graph.pbtxt',\n",
              " 'model.ckpt.data-00000-of-00001',\n",
              " 'model.ckpt.index',\n",
              " 'model.ckpt.meta',\n",
              " 'pipeline.config',\n",
              " 'saved_model']"
            ]
          },
          "metadata": {
            "tags": []
          },
          "execution_count": 9
        }
      ]
    },
    {
      "cell_type": "markdown",
      "metadata": {
        "id": "xagk5ydEqLby"
      },
      "source": [
        "## Tensorflow inference model loading"
      ]
    },
    {
      "cell_type": "code",
      "metadata": {
        "id": "Zqd_NhbhqApG"
      },
      "source": [
        "model_path = '/content/DLCV/faster_RCNN/faster_rcnn_resnet50_coco_2018_01_28/'\r\n",
        "\r\n",
        "cv_net = cv2.dnn.readNetFromTensorflow(model_path+'frozen_inference_graph.pb',model_path+'graph.pbtxt')"
      ],
      "execution_count": 10,
      "outputs": []
    },
    {
      "cell_type": "markdown",
      "metadata": {
        "id": "po6adyI2qGHY"
      },
      "source": [
        "## Lablel Mapping"
      ]
    },
    {
      "cell_type": "code",
      "metadata": {
        "id": "TVgQCkSNqPfH"
      },
      "source": [
        "labels_to_names_0 = {0:'person',1:'bicycle',2:'car',3:'motorcycle',4:'airplane',5:'bus',6:'train',7:'truck',8:'boat',9:'traffic light',\r\n",
        "                    10:'fire hydrant',11:'street sign',12:'stop sign',13:'parking meter',14:'bench',15:'bird',16:'cat',17:'dog',18:'horse',19:'sheep',\r\n",
        "                    20:'cow',21:'elephant',22:'bear',23:'zebra',24:'giraffe',25:'hat',26:'backpack',27:'umbrella',28:'shoe',29:'eye glasses',\r\n",
        "                    30:'handbag',31:'tie',32:'suitcase',33:'frisbee',34:'skis',35:'snowboard',36:'sports ball',37:'kite',38:'baseball bat',39:'baseball glove',\r\n",
        "                    40:'skateboard',41:'surfboard',42:'tennis racket',43:'bottle',44:'plate',45:'wine glass',46:'cup',47:'fork',48:'knife',49:'spoon',\r\n",
        "                    50:'bowl',51:'banana',52:'apple',53:'sandwich',54:'orange',55:'broccoli',56:'carrot',57:'hot dog',58:'pizza',59:'donut',\r\n",
        "                    60:'cake',61:'chair',62:'couch',63:'potted plant',64:'bed',65:'mirror',66:'dining table',67:'window',68:'desk',69:'toilet',\r\n",
        "                    70:'door',71:'tv',72:'laptop',73:'mouse',74:'remote',75:'keyboard',76:'cell phone',77:'microwave',78:'oven',79:'toaster',\r\n",
        "                    80:'sink',81:'refrigerator',82:'blender',83:'book',84:'clock',85:'vase',86:'scissors',87:'teddy bear',88:'hair drier',89:'toothbrush',\r\n",
        "                    90:'hair brush'}"
      ],
      "execution_count": 11,
      "outputs": []
    },
    {
      "cell_type": "markdown",
      "metadata": {
        "id": "CPwNDwC4qRHY"
      },
      "source": [
        "##Confirm Video"
      ]
    },
    {
      "cell_type": "code",
      "metadata": {
        "colab": {
          "base_uri": "https://localhost:8080/"
        },
        "id": "vSs6EUWTrGad",
        "outputId": "a2bc7485-596f-4fc1-b4c9-d2b3b504a7a3"
      },
      "source": [
        "video_output_path = path+'video/new_John_wick.avi'\r\n",
        "\r\n",
        "cap = cv2.VideoCapture(video_path) #VideoCapture 함수를 사용하여 video 객체로 저장\r\n",
        "\r\n",
        "codec = cv2.VideoWriter_fourcc(*'XVID') # 비디오 인코딩을 XVID형태로 만들기\r\n",
        "\r\n",
        "video_size = (round(cap.get(cv2.CAP_PROP_FRAME_WIDTH)),round(cap.get(cv2.CAP_PROP_FRAME_HEIGHT)))\r\n",
        "video_FPS = cap.get(cv2.CAP_PROP_FPS)\r\n",
        "\r\n",
        "video_writer = cv2.VideoWriter(video_output_path, codec, video_FPS, video_size )\r\n",
        "print(\"frame_count: {}\".format(cap.get(cv2.CAP_PROP_FRAME_COUNT)))\r\n",
        "print(\"Size: {}\".format(video_size))\r\n",
        "print(\"FPS: {}\".format(video_FPS))"
      ],
      "execution_count": 15,
      "outputs": [
        {
          "output_type": "stream",
          "text": [
            "frame_count: 58.0\n",
            "Size: (1072, 460)\n",
            "FPS: 30.00051725029742\n"
          ],
          "name": "stdout"
        }
      ]
    },
    {
      "cell_type": "markdown",
      "metadata": {
        "id": "-RtBb2Jh7X0E"
      },
      "source": [
        "## Process Video Detection per Frame"
      ]
    },
    {
      "cell_type": "code",
      "metadata": {
        "colab": {
          "base_uri": "https://localhost:8080/"
        },
        "id": "zASAYcJAtDgp",
        "outputId": "db4a0954-4c40-44ea-fafc-ea32c3b38bf1"
      },
      "source": [
        "red = (255,0,0)\r\n",
        "green = (0,255,0)\r\n",
        "import time\r\n",
        "\r\n",
        "while True: #무한루프\r\n",
        "\r\n",
        "    has_frame,img_frame = cap.read() #videoCapture을 read할경우 두개의 객체가 반환된다.(frame 반환여부, 실제 frame 정보)\r\n",
        "    if not has_frame:\r\n",
        "        print(\"NO more Frame to process\")\r\n",
        "        break\r\n",
        "\r\n",
        "    row = img_frame.shape[0]\r\n",
        "    col = img_frame.shape[1]\r\n",
        "\r\n",
        "    cv_net.setInput(cv2.dnn.blobFromImage(img_frame, swapRB=True, crop=False))\r\n",
        "\r\n",
        "    start=time.time()\r\n",
        "\r\n",
        "    cv_out = cv_net.forward()\r\n",
        "    frame_index = 0\r\n",
        "\r\n",
        "    for detection in cv_out[0,0,:,:]:\r\n",
        "        class_num = int(detection[1])\r\n",
        "        score = float(detection[2])\r\n",
        "\r\n",
        "        if score>0.5:\r\n",
        "            left = int(detection[3]*col)\r\n",
        "            top = int(detection[4]*row)\r\n",
        "            right = int(detection[5]*col)\r\n",
        "            bottom = int(detection[6]*row)\r\n",
        "\r\n",
        "            caption = \"{} ,{:.4f}\".format(labels_to_names_0[class_num],score)\r\n",
        "            cv2.rectangle(img_frame, (left,top),(right,bottom),color=green, thickness=2)\r\n",
        "            cv2.putText(img_frame, caption, (left,top-5),cv2.FONT_HERSHEY_SIMPLEX, 0.4, color=red, thickness=1)\r\n",
        "\r\n",
        "    print(\"time: {:.4f}\".format(time.time()-start))\r\n",
        "    video_writer.write(img_frame)\r\n",
        "\r\n",
        "video_writer.release()\r\n",
        "cap.release()\r\n"
      ],
      "execution_count": 16,
      "outputs": [
        {
          "output_type": "stream",
          "text": [
            "time: 8.5742\n",
            "time: 8.6807\n",
            "time: 8.5532\n",
            "time: 8.6053\n",
            "time: 8.5091\n",
            "time: 8.5401\n",
            "time: 8.5875\n",
            "time: 8.5553\n",
            "time: 8.5599\n",
            "time: 8.6511\n",
            "time: 8.4751\n",
            "time: 8.5248\n",
            "time: 8.5953\n",
            "time: 9.3628\n",
            "time: 8.9872\n",
            "time: 8.6335\n",
            "time: 8.8667\n",
            "time: 8.7395\n",
            "time: 9.0296\n",
            "time: 9.1422\n",
            "time: 8.5774\n",
            "time: 8.6261\n",
            "time: 8.5950\n",
            "time: 8.6443\n",
            "time: 8.4959\n",
            "time: 8.4964\n",
            "time: 8.5393\n",
            "time: 8.5541\n",
            "time: 8.6745\n",
            "time: 8.5691\n",
            "time: 8.5510\n",
            "time: 8.8022\n",
            "time: 8.7673\n",
            "time: 8.8555\n",
            "time: 8.5197\n",
            "time: 8.6193\n",
            "time: 8.6143\n",
            "time: 8.5805\n",
            "time: 8.5488\n",
            "time: 8.4698\n",
            "time: 8.5724\n",
            "time: 9.7150\n",
            "time: 8.8043\n",
            "time: 8.6511\n",
            "time: 8.6171\n",
            "time: 8.6574\n",
            "time: 8.4462\n",
            "time: 8.6350\n",
            "time: 8.4951\n",
            "time: 8.5931\n",
            "time: 8.6773\n",
            "time: 8.4441\n",
            "time: 8.5466\n",
            "time: 8.5725\n",
            "time: 8.9373\n",
            "time: 8.5897\n",
            "time: 8.5511\n",
            "time: 8.5815\n",
            "NO more Frame to process\n"
          ],
          "name": "stdout"
        }
      ]
    }
  ]
}